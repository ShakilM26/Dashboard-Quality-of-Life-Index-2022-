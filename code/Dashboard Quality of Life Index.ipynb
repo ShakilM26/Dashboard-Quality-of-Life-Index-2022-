{
 "cells": [
  {
   "cell_type": "code",
   "execution_count": 15,
   "id": "e864d335",
   "metadata": {},
   "outputs": [],
   "source": [
    "import pandas as pd\n",
    "import panel as pn\n",
    "import hvplot.pandas \n",
    "pn.extension('tabulator')"
   ]
  },
  {
   "cell_type": "code",
   "execution_count": 16,
   "id": "53e63c7c",
   "metadata": {},
   "outputs": [
    {
     "data": {
      "text/html": [
       "<div>\n",
       "<style scoped>\n",
       "    .dataframe tbody tr th:only-of-type {\n",
       "        vertical-align: middle;\n",
       "    }\n",
       "\n",
       "    .dataframe tbody tr th {\n",
       "        vertical-align: top;\n",
       "    }\n",
       "\n",
       "    .dataframe thead th {\n",
       "        text-align: right;\n",
       "    }\n",
       "</style>\n",
       "<table border=\"1\" class=\"dataframe\">\n",
       "  <thead>\n",
       "    <tr style=\"text-align: right;\">\n",
       "      <th></th>\n",
       "      <th>Country</th>\n",
       "      <th>Quality of Life Index</th>\n",
       "      <th>Purchasing Power Index</th>\n",
       "      <th>Safety Index</th>\n",
       "      <th>Health Care Index</th>\n",
       "      <th>Cost of Living Index</th>\n",
       "      <th>Property Price to Income Ratio</th>\n",
       "      <th>Traffic Commute Time Index</th>\n",
       "      <th>Pollution Index</th>\n",
       "      <th>Climate Index</th>\n",
       "      <th>Continent</th>\n",
       "    </tr>\n",
       "  </thead>\n",
       "  <tbody>\n",
       "    <tr>\n",
       "      <th>0</th>\n",
       "      <td>United Arab Emirates</td>\n",
       "      <td>174.4</td>\n",
       "      <td>118.9</td>\n",
       "      <td>85.1</td>\n",
       "      <td>69.7</td>\n",
       "      <td>58.0</td>\n",
       "      <td>2.9</td>\n",
       "      <td>36.1</td>\n",
       "      <td>47.9</td>\n",
       "      <td>45.2</td>\n",
       "      <td>Asia</td>\n",
       "    </tr>\n",
       "    <tr>\n",
       "      <th>1</th>\n",
       "      <td>Japan</td>\n",
       "      <td>172.6</td>\n",
       "      <td>91.1</td>\n",
       "      <td>77.8</td>\n",
       "      <td>80.5</td>\n",
       "      <td>62.8</td>\n",
       "      <td>10.5</td>\n",
       "      <td>40.7</td>\n",
       "      <td>39.1</td>\n",
       "      <td>84.8</td>\n",
       "      <td>Asia</td>\n",
       "    </tr>\n",
       "    <tr>\n",
       "      <th>2</th>\n",
       "      <td>Oman</td>\n",
       "      <td>172.1</td>\n",
       "      <td>78.8</td>\n",
       "      <td>80.3</td>\n",
       "      <td>58.2</td>\n",
       "      <td>48.1</td>\n",
       "      <td>4.6</td>\n",
       "      <td>22.6</td>\n",
       "      <td>36.8</td>\n",
       "      <td>67.2</td>\n",
       "      <td>Asia</td>\n",
       "    </tr>\n",
       "    <tr>\n",
       "      <th>3</th>\n",
       "      <td>Qatar</td>\n",
       "      <td>155.6</td>\n",
       "      <td>98.1</td>\n",
       "      <td>85.8</td>\n",
       "      <td>73.7</td>\n",
       "      <td>60.6</td>\n",
       "      <td>6.9</td>\n",
       "      <td>30.0</td>\n",
       "      <td>60.0</td>\n",
       "      <td>36.0</td>\n",
       "      <td>Asia</td>\n",
       "    </tr>\n",
       "    <tr>\n",
       "      <th>4</th>\n",
       "      <td>Singapore</td>\n",
       "      <td>154.5</td>\n",
       "      <td>94.6</td>\n",
       "      <td>72.8</td>\n",
       "      <td>71.1</td>\n",
       "      <td>79.1</td>\n",
       "      <td>16.8</td>\n",
       "      <td>41.2</td>\n",
       "      <td>33.0</td>\n",
       "      <td>57.5</td>\n",
       "      <td>Asia</td>\n",
       "    </tr>\n",
       "  </tbody>\n",
       "</table>\n",
       "</div>"
      ],
      "text/plain": [
       "                Country  Quality of Life Index  Purchasing Power Index  \\\n",
       "0  United Arab Emirates                  174.4                   118.9   \n",
       "1                 Japan                  172.6                    91.1   \n",
       "2                  Oman                  172.1                    78.8   \n",
       "3                 Qatar                  155.6                    98.1   \n",
       "4             Singapore                  154.5                    94.6   \n",
       "\n",
       "   Safety Index  Health Care Index  Cost of Living Index  \\\n",
       "0          85.1               69.7                  58.0   \n",
       "1          77.8               80.5                  62.8   \n",
       "2          80.3               58.2                  48.1   \n",
       "3          85.8               73.7                  60.6   \n",
       "4          72.8               71.1                  79.1   \n",
       "\n",
       "   Property Price to Income Ratio  Traffic Commute Time Index  \\\n",
       "0                             2.9                        36.1   \n",
       "1                            10.5                        40.7   \n",
       "2                             4.6                        22.6   \n",
       "3                             6.9                        30.0   \n",
       "4                            16.8                        41.2   \n",
       "\n",
       "   Pollution Index  Climate Index Continent  \n",
       "0             47.9           45.2      Asia  \n",
       "1             39.1           84.8      Asia  \n",
       "2             36.8           67.2      Asia  \n",
       "3             60.0           36.0      Asia  \n",
       "4             33.0           57.5      Asia  "
      ]
     },
     "execution_count": 16,
     "metadata": {},
     "output_type": "execute_result"
    }
   ],
   "source": [
    "df = pd.read_csv('Quality_of_life_2022.csv')\n",
    "df.head()"
   ]
  },
  {
   "cell_type": "code",
   "execution_count": 17,
   "id": "b54ee215",
   "metadata": {},
   "outputs": [
    {
     "data": {
      "text/plain": [
       "Index(['Country', 'Quality_of_Life_Index', 'Purchasing Power Index',\n",
       "       'Safety Index', 'Health Care Index', 'Cost_of_Living_Index',\n",
       "       'Property Price to Income Ratio', 'Traffic Commute Time Index',\n",
       "       'Pollution Index', 'Climate Index', 'Continent'],\n",
       "      dtype='object')"
      ]
     },
     "execution_count": 17,
     "metadata": {},
     "output_type": "execute_result"
    }
   ],
   "source": [
    "df.rename(columns={'Quality of Life Index':'Quality_of_Life_Index',\n",
    "                  'Cost of Living Index':'Cost_of_Living_Index'\n",
    "                  }, inplace=True)\n",
    "df.columns"
   ]
  },
  {
   "cell_type": "markdown",
   "id": "3669d1fe",
   "metadata": {},
   "source": [
    "### Time to fly with Visualization "
   ]
  },
  {
   "cell_type": "code",
   "execution_count": 18,
   "id": "7ce18454",
   "metadata": {},
   "outputs": [
    {
     "data": {
      "text/plain": [
       "['Asia', 'Europe', 'America', 'Africa', 'Oceania']"
      ]
     },
     "execution_count": 18,
     "metadata": {},
     "output_type": "execute_result"
    }
   ],
   "source": [
    "continent_list = list(df.Continent.unique())\n",
    "continent_list"
   ]
  },
  {
   "cell_type": "code",
   "execution_count": 19,
   "id": "d9c79565",
   "metadata": {},
   "outputs": [
    {
     "data": {},
     "metadata": {},
     "output_type": "display_data"
    },
    {
     "data": {
      "application/vnd.holoviews_exec.v0+json": "",
      "text/html": [
       "<div id='1005'>\n",
       "  <div class=\"bk-root\" id=\"0e629c2a-b651-4490-88b4-a3a206c41e85\" data-root-id=\"1005\"></div>\n",
       "</div>\n",
       "<script type=\"application/javascript\">(function(root) {\n",
       "  function embed_document(root) {\n",
       "    var docs_json = {\"36e8ae42-3b70-48e4-a90a-d5902825dde8\":{\"defs\":[{\"extends\":null,\"module\":null,\"name\":\"ReactiveHTML1\",\"overrides\":[],\"properties\":[]},{\"extends\":null,\"module\":null,\"name\":\"FlexBox1\",\"overrides\":[],\"properties\":[{\"default\":\"flex-start\",\"kind\":null,\"name\":\"align_content\"},{\"default\":\"flex-start\",\"kind\":null,\"name\":\"align_items\"},{\"default\":\"row\",\"kind\":null,\"name\":\"flex_direction\"},{\"default\":\"wrap\",\"kind\":null,\"name\":\"flex_wrap\"},{\"default\":\"flex-start\",\"kind\":null,\"name\":\"justify_content\"}]},{\"extends\":null,\"module\":null,\"name\":\"GridStack1\",\"overrides\":[],\"properties\":[{\"default\":\"warn\",\"kind\":null,\"name\":\"mode\"},{\"default\":null,\"kind\":null,\"name\":\"ncols\"},{\"default\":null,\"kind\":null,\"name\":\"nrows\"},{\"default\":true,\"kind\":null,\"name\":\"allow_resize\"},{\"default\":true,\"kind\":null,\"name\":\"allow_drag\"},{\"default\":[],\"kind\":null,\"name\":\"state\"}]},{\"extends\":null,\"module\":null,\"name\":\"click1\",\"overrides\":[],\"properties\":[{\"default\":\"\",\"kind\":null,\"name\":\"terminal_output\"},{\"default\":\"\",\"kind\":null,\"name\":\"debug_name\"},{\"default\":0,\"kind\":null,\"name\":\"clears\"}]},{\"extends\":null,\"module\":null,\"name\":\"NotificationAreaBase1\",\"overrides\":[],\"properties\":[{\"default\":\"bottom-right\",\"kind\":null,\"name\":\"position\"},{\"default\":0,\"kind\":null,\"name\":\"_clear\"}]},{\"extends\":null,\"module\":null,\"name\":\"NotificationArea1\",\"overrides\":[],\"properties\":[{\"default\":[],\"kind\":null,\"name\":\"notifications\"},{\"default\":\"bottom-right\",\"kind\":null,\"name\":\"position\"},{\"default\":0,\"kind\":null,\"name\":\"_clear\"},{\"default\":[{\"background\":\"#ffc107\",\"icon\":{\"className\":\"fas fa-exclamation-triangle\",\"color\":\"white\",\"tagName\":\"i\"},\"type\":\"warning\"},{\"background\":\"#007bff\",\"icon\":{\"className\":\"fas fa-info-circle\",\"color\":\"white\",\"tagName\":\"i\"},\"type\":\"info\"}],\"kind\":null,\"name\":\"types\"}]},{\"extends\":null,\"module\":null,\"name\":\"Notification\",\"overrides\":[],\"properties\":[{\"default\":null,\"kind\":null,\"name\":\"background\"},{\"default\":3000,\"kind\":null,\"name\":\"duration\"},{\"default\":null,\"kind\":null,\"name\":\"icon\"},{\"default\":\"\",\"kind\":null,\"name\":\"message\"},{\"default\":null,\"kind\":null,\"name\":\"notification_type\"},{\"default\":false,\"kind\":null,\"name\":\"_destroyed\"}]},{\"extends\":null,\"module\":null,\"name\":\"TemplateActions1\",\"overrides\":[],\"properties\":[{\"default\":0,\"kind\":null,\"name\":\"open_modal\"},{\"default\":0,\"kind\":null,\"name\":\"close_modal\"}]},{\"extends\":null,\"module\":null,\"name\":\"MaterialTemplateActions1\",\"overrides\":[],\"properties\":[{\"default\":0,\"kind\":null,\"name\":\"open_modal\"},{\"default\":0,\"kind\":null,\"name\":\"close_modal\"}]}],\"roots\":{\"references\":[{\"attributes\":{\"client_comm_id\":\"513da0bb6650485bbc888f1e523bf752\",\"comm_id\":\"1a0e579319cf495380bb39dad99eabff\",\"plot_id\":\"1005\"},\"id\":\"1006\",\"type\":\"panel.models.comm_manager.CommManager\"},{\"attributes\":{\"margin\":[5,10,5,10],\"options\":[\"Asia\",\"Europe\",\"America\",\"Africa\",\"Oceania\"],\"title\":\"Choose your Continent\",\"value\":\"Asia\"},\"id\":\"1005\",\"type\":\"panel.models.widgets.CustomSelect\"}],\"root_ids\":[\"1005\",\"1006\"]},\"title\":\"Bokeh Application\",\"version\":\"2.4.3\"}};\n",
       "    var render_items = [{\"docid\":\"36e8ae42-3b70-48e4-a90a-d5902825dde8\",\"root_ids\":[\"1005\"],\"roots\":{\"1005\":\"0e629c2a-b651-4490-88b4-a3a206c41e85\"}}];\n",
       "    root.Bokeh.embed.embed_items_notebook(docs_json, render_items);\n",
       "    for (const render_item of render_items) {\n",
       "      for (const root_id of render_item.root_ids) {\n",
       "\tconst id_el = document.getElementById(root_id)\n",
       "\tif (id_el.children.length && (id_el.children[0].className === 'bk-root')) {\n",
       "\t  const root_el = id_el.children[0]\n",
       "\t  root_el.id = root_el.id + '-rendered'\n",
       "\t}\n",
       "      }\n",
       "    }\n",
       "  }\n",
       "  if (root.Bokeh !== undefined && root.Bokeh.Panel !== undefined && ( root['Tabulator'] !== undefined) && ( root['Tabulator'] !== undefined) && ( root['Tabulator'] !== undefined)) {\n",
       "    embed_document(root);\n",
       "  } else {\n",
       "    var attempts = 0;\n",
       "    var timer = setInterval(function(root) {\n",
       "      if (root.Bokeh !== undefined && root.Bokeh.Panel !== undefined && (root['Tabulator'] !== undefined) && (root['Tabulator'] !== undefined) && (root['Tabulator'] !== undefined)) {\n",
       "        clearInterval(timer);\n",
       "        embed_document(root);\n",
       "      } else if (document.readyState == \"complete\") {\n",
       "        attempts++;\n",
       "        if (attempts > 200) {\n",
       "          clearInterval(timer);\n",
       "          console.log(\"Bokeh: ERROR: Unable to run BokehJS code because BokehJS library is missing\");\n",
       "        }\n",
       "      }\n",
       "    }, 25, root)\n",
       "  }\n",
       "})(window);</script>"
      ],
      "text/plain": [
       "Select(name='Choose your Continent', options=['Asia', 'Europe', ...], value='Asia')"
      ]
     },
     "execution_count": 19,
     "metadata": {
      "application/vnd.holoviews_exec.v0+json": {
       "id": "1005"
      }
     },
     "output_type": "execute_result"
    }
   ],
   "source": [
    "choose_continent = pn.widgets.Select(name='Choose your Continent', options=continent_list)\n",
    "choose_continent"
   ]
  },
  {
   "cell_type": "code",
   "execution_count": 20,
   "id": "9c7c6b78",
   "metadata": {},
   "outputs": [],
   "source": [
    "# make it interactive\n",
    "\n",
    "idf = df.interactive()\n",
    "\n",
    "data_pipeline = (idf[(idf.Continent == choose_continent)])"
   ]
  },
  {
   "cell_type": "code",
   "execution_count": null,
   "id": "22b5ddd0",
   "metadata": {},
   "outputs": [],
   "source": []
  },
  {
   "cell_type": "code",
   "execution_count": 22,
   "id": "60080c31",
   "metadata": {},
   "outputs": [
    {
     "data": {
      "text/html": [
       "<div>\n",
       "<style scoped>\n",
       "    .dataframe tbody tr th:only-of-type {\n",
       "        vertical-align: middle;\n",
       "    }\n",
       "\n",
       "    .dataframe tbody tr th {\n",
       "        vertical-align: top;\n",
       "    }\n",
       "\n",
       "    .dataframe thead th {\n",
       "        text-align: right;\n",
       "    }\n",
       "</style>\n",
       "<table border=\"1\" class=\"dataframe\">\n",
       "  <thead>\n",
       "    <tr style=\"text-align: right;\">\n",
       "      <th></th>\n",
       "      <th>Health Care Index</th>\n",
       "      <th>Safety Index</th>\n",
       "      <th>Climate Index</th>\n",
       "      <th>Pollution Index</th>\n",
       "    </tr>\n",
       "    <tr>\n",
       "      <th>Continent</th>\n",
       "      <th></th>\n",
       "      <th></th>\n",
       "      <th></th>\n",
       "      <th></th>\n",
       "    </tr>\n",
       "  </thead>\n",
       "  <tbody>\n",
       "    <tr>\n",
       "      <th>Oceania</th>\n",
       "      <td>75.40</td>\n",
       "      <td>55.30</td>\n",
       "      <td>95.15</td>\n",
       "      <td>24.05</td>\n",
       "    </tr>\n",
       "    <tr>\n",
       "      <th>Europe</th>\n",
       "      <td>65.45</td>\n",
       "      <td>63.68</td>\n",
       "      <td>79.37</td>\n",
       "      <td>39.78</td>\n",
       "    </tr>\n",
       "    <tr>\n",
       "      <th>Asia</th>\n",
       "      <td>65.12</td>\n",
       "      <td>64.94</td>\n",
       "      <td>69.31</td>\n",
       "      <td>65.98</td>\n",
       "    </tr>\n",
       "    <tr>\n",
       "      <th>America</th>\n",
       "      <td>63.14</td>\n",
       "      <td>42.02</td>\n",
       "      <td>87.01</td>\n",
       "      <td>55.79</td>\n",
       "    </tr>\n",
       "    <tr>\n",
       "      <th>Africa</th>\n",
       "      <td>54.50</td>\n",
       "      <td>44.38</td>\n",
       "      <td>88.53</td>\n",
       "      <td>72.72</td>\n",
       "    </tr>\n",
       "  </tbody>\n",
       "</table>\n",
       "</div>"
      ],
      "text/plain": [
       "           Health Care Index  Safety Index  Climate Index  Pollution Index\n",
       "Continent                                                                 \n",
       "Oceania                75.40         55.30          95.15            24.05\n",
       "Europe                 65.45         63.68          79.37            39.78\n",
       "Asia                   65.12         64.94          69.31            65.98\n",
       "America                63.14         42.02          87.01            55.79\n",
       "Africa                 54.50         44.38          88.53            72.72"
      ]
     },
     "execution_count": 22,
     "metadata": {},
     "output_type": "execute_result"
    }
   ],
   "source": [
    "# tabular chart \n",
    "\n",
    "viz_1 = round(df.groupby(['Continent'])[['Health Care Index','Safety Index','Climate Index', 'Pollution Index']].agg('mean').sort_values(by='Health Care Index', ascending=False), 2)\n",
    "viz_1"
   ]
  },
  {
   "cell_type": "code",
   "execution_count": 24,
   "id": "a035432d",
   "metadata": {},
   "outputs": [
    {
     "data": {},
     "metadata": {},
     "output_type": "display_data"
    },
    {
     "data": {
      "application/vnd.holoviews_exec.v0+json": "",
      "text/html": [
       "<div id='1007'>\n",
       "  <div class=\"bk-root\" id=\"c87ec2c2-775c-47bf-84ed-0dc27c4a04a1\" data-root-id=\"1007\"></div>\n",
       "</div>\n",
       "<script type=\"application/javascript\">(function(root) {\n",
       "  function embed_document(root) {\n",
       "    var docs_json = {\"4635a0ba-3d57-4259-a3f4-f63c241f939b\":{\"defs\":[{\"extends\":null,\"module\":null,\"name\":\"ReactiveHTML1\",\"overrides\":[],\"properties\":[]},{\"extends\":null,\"module\":null,\"name\":\"FlexBox1\",\"overrides\":[],\"properties\":[{\"default\":\"flex-start\",\"kind\":null,\"name\":\"align_content\"},{\"default\":\"flex-start\",\"kind\":null,\"name\":\"align_items\"},{\"default\":\"row\",\"kind\":null,\"name\":\"flex_direction\"},{\"default\":\"wrap\",\"kind\":null,\"name\":\"flex_wrap\"},{\"default\":\"flex-start\",\"kind\":null,\"name\":\"justify_content\"}]},{\"extends\":null,\"module\":null,\"name\":\"GridStack1\",\"overrides\":[],\"properties\":[{\"default\":\"warn\",\"kind\":null,\"name\":\"mode\"},{\"default\":null,\"kind\":null,\"name\":\"ncols\"},{\"default\":null,\"kind\":null,\"name\":\"nrows\"},{\"default\":true,\"kind\":null,\"name\":\"allow_resize\"},{\"default\":true,\"kind\":null,\"name\":\"allow_drag\"},{\"default\":[],\"kind\":null,\"name\":\"state\"}]},{\"extends\":null,\"module\":null,\"name\":\"click1\",\"overrides\":[],\"properties\":[{\"default\":\"\",\"kind\":null,\"name\":\"terminal_output\"},{\"default\":\"\",\"kind\":null,\"name\":\"debug_name\"},{\"default\":0,\"kind\":null,\"name\":\"clears\"}]},{\"extends\":null,\"module\":null,\"name\":\"NotificationAreaBase1\",\"overrides\":[],\"properties\":[{\"default\":\"bottom-right\",\"kind\":null,\"name\":\"position\"},{\"default\":0,\"kind\":null,\"name\":\"_clear\"}]},{\"extends\":null,\"module\":null,\"name\":\"NotificationArea1\",\"overrides\":[],\"properties\":[{\"default\":[],\"kind\":null,\"name\":\"notifications\"},{\"default\":\"bottom-right\",\"kind\":null,\"name\":\"position\"},{\"default\":0,\"kind\":null,\"name\":\"_clear\"},{\"default\":[{\"background\":\"#ffc107\",\"icon\":{\"className\":\"fas fa-exclamation-triangle\",\"color\":\"white\",\"tagName\":\"i\"},\"type\":\"warning\"},{\"background\":\"#007bff\",\"icon\":{\"className\":\"fas fa-info-circle\",\"color\":\"white\",\"tagName\":\"i\"},\"type\":\"info\"}],\"kind\":null,\"name\":\"types\"}]},{\"extends\":null,\"module\":null,\"name\":\"Notification\",\"overrides\":[],\"properties\":[{\"default\":null,\"kind\":null,\"name\":\"background\"},{\"default\":3000,\"kind\":null,\"name\":\"duration\"},{\"default\":null,\"kind\":null,\"name\":\"icon\"},{\"default\":\"\",\"kind\":null,\"name\":\"message\"},{\"default\":null,\"kind\":null,\"name\":\"notification_type\"},{\"default\":false,\"kind\":null,\"name\":\"_destroyed\"}]},{\"extends\":null,\"module\":null,\"name\":\"TemplateActions1\",\"overrides\":[],\"properties\":[{\"default\":0,\"kind\":null,\"name\":\"open_modal\"},{\"default\":0,\"kind\":null,\"name\":\"close_modal\"}]},{\"extends\":null,\"module\":null,\"name\":\"MaterialTemplateActions1\",\"overrides\":[],\"properties\":[{\"default\":0,\"kind\":null,\"name\":\"open_modal\"},{\"default\":0,\"kind\":null,\"name\":\"close_modal\"}]}],\"roots\":{\"references\":[{\"attributes\":{\"source\":{\"id\":\"1042\"}},\"id\":\"1049\",\"type\":\"CDSView\"},{\"attributes\":{\"bottom\":{\"field\":\"bottom\"},\"fill_color\":{\"field\":\"Variable\",\"transform\":{\"id\":\"1041\"}},\"hatch_color\":{\"field\":\"Variable\",\"transform\":{\"id\":\"1041\"}},\"top\":{\"field\":\"top\"},\"width\":{\"value\":0.8},\"x\":{\"field\":\"Continent\"}},\"id\":\"1045\",\"type\":\"VBar\"},{\"attributes\":{\"axis_label\":\"\",\"coordinates\":null,\"formatter\":{\"id\":\"1055\"},\"group\":null,\"major_label_policy\":{\"id\":\"1056\"},\"ticker\":{\"id\":\"1025\"}},\"id\":\"1024\",\"type\":\"LinearAxis\"},{\"attributes\":{\"children\":[{\"id\":\"1008\"},{\"id\":\"1012\"},{\"id\":\"1067\"}],\"margin\":[0,0,0,0],\"name\":\"Row01244\",\"tags\":[\"embedded\"]},\"id\":\"1007\",\"type\":\"Row\"},{\"attributes\":{\"callback\":null,\"renderers\":[{\"id\":\"1048\"}],\"tags\":[\"hv_created\"],\"tooltips\":[[\"Continent\",\"@{Continent}\"],[\"Variable\",\"@{Variable}\"],[\"value\",\"@{value}\"]]},\"id\":\"1011\",\"type\":\"HoverTool\"},{\"attributes\":{\"below\":[{\"id\":\"1021\"}],\"center\":[{\"id\":\"1023\"},{\"id\":\"1027\"}],\"height\":300,\"left\":[{\"id\":\"1024\"}],\"margin\":[5,5,5,5],\"min_border_bottom\":10,\"min_border_left\":10,\"min_border_right\":10,\"min_border_top\":10,\"renderers\":[{\"id\":\"1048\"}],\"sizing_mode\":\"fixed\",\"title\":{\"id\":\"1013\"},\"toolbar\":{\"id\":\"1034\"},\"width\":550,\"x_range\":{\"id\":\"1009\"},\"x_scale\":{\"id\":\"1017\"},\"y_range\":{\"id\":\"1010\"},\"y_scale\":{\"id\":\"1019\"}},\"id\":\"1012\",\"subtype\":\"Figure\",\"type\":\"Plot\"},{\"attributes\":{\"factors\":[\"Quality_of_Life_Index\",\"Cost_of_Living_Index\"],\"palette\":[\"#E74C3C\",\"#E74C3C\"]},\"id\":\"1041\",\"type\":\"CategoricalColorMapper\"},{\"attributes\":{},\"id\":\"1043\",\"type\":\"Selection\"},{\"attributes\":{\"bottom\":{\"field\":\"bottom\"},\"fill_alpha\":{\"value\":0.2},\"fill_color\":{\"field\":\"Variable\",\"transform\":{\"id\":\"1041\"}},\"hatch_alpha\":{\"value\":0.2},\"hatch_color\":{\"field\":\"Variable\",\"transform\":{\"id\":\"1041\"}},\"line_alpha\":{\"value\":0.2},\"top\":{\"field\":\"top\"},\"width\":{\"value\":0.8},\"x\":{\"field\":\"Continent\"}},\"id\":\"1047\",\"type\":\"VBar\"},{\"attributes\":{},\"id\":\"1053\",\"type\":\"AllLabels\"},{\"attributes\":{\"factors\":[\"Europe\",\"Oceania\",\"Asia\",\"America\",\"Africa\"],\"tags\":[[[\"Continent\",\"Continent\",null]]]},\"id\":\"1009\",\"type\":\"FactorRange\"},{\"attributes\":{},\"id\":\"1055\",\"type\":\"BasicTickFormatter\"},{\"attributes\":{\"coordinates\":null,\"data_source\":{\"id\":\"1042\"},\"glyph\":{\"id\":\"1045\"},\"group\":null,\"hover_glyph\":null,\"muted_glyph\":{\"id\":\"1047\"},\"nonselection_glyph\":{\"id\":\"1046\"},\"selection_glyph\":{\"id\":\"1050\"},\"view\":{\"id\":\"1049\"}},\"id\":\"1048\",\"type\":\"GlyphRenderer\"},{\"attributes\":{},\"id\":\"1028\",\"type\":\"SaveTool\"},{\"attributes\":{\"bottom\":{\"field\":\"bottom\"},\"fill_alpha\":{\"value\":1.0},\"fill_color\":{\"field\":\"Variable\",\"transform\":{\"id\":\"1041\"}},\"hatch_alpha\":{\"value\":1.0},\"hatch_color\":{\"field\":\"Variable\",\"transform\":{\"id\":\"1041\"}},\"hatch_scale\":{\"value\":12.0},\"hatch_weight\":{\"value\":1.0},\"line_alpha\":{\"value\":1.0},\"line_cap\":{\"value\":\"butt\"},\"line_color\":{\"value\":\"black\"},\"line_dash\":{\"value\":[]},\"line_dash_offset\":{\"value\":0},\"line_join\":{\"value\":\"bevel\"},\"line_width\":{\"value\":1},\"top\":{\"field\":\"top\"},\"width\":{\"value\":0.8},\"x\":{\"field\":\"Continent\"}},\"id\":\"1050\",\"type\":\"VBar\"},{\"attributes\":{},\"id\":\"1032\",\"type\":\"ResetTool\"},{\"attributes\":{\"axis\":{\"id\":\"1021\"},\"coordinates\":null,\"grid_line_color\":null,\"group\":null,\"ticker\":null},\"id\":\"1023\",\"type\":\"Grid\"},{\"attributes\":{},\"id\":\"1017\",\"type\":\"CategoricalScale\"},{\"attributes\":{\"overlay\":{\"id\":\"1033\"}},\"id\":\"1031\",\"type\":\"BoxZoomTool\"},{\"attributes\":{\"axis\":{\"id\":\"1024\"},\"coordinates\":null,\"dimension\":1,\"grid_line_color\":null,\"group\":null,\"ticker\":null},\"id\":\"1027\",\"type\":\"Grid\"},{\"attributes\":{},\"id\":\"1019\",\"type\":\"LinearScale\"},{\"attributes\":{\"data\":{\"Continent\":[\"Europe\",\"Oceania\",\"Asia\",\"America\",\"Africa\",\"Europe\",\"Oceania\",\"Asia\",\"America\",\"Africa\"],\"Variable\":[\"Quality_of_Life_Index\",\"Quality_of_Life_Index\",\"Quality_of_Life_Index\",\"Quality_of_Life_Index\",\"Quality_of_Life_Index\",\"Cost_of_Living_Index\",\"Cost_of_Living_Index\",\"Cost_of_Living_Index\",\"Cost_of_Living_Index\",\"Cost_of_Living_Index\"],\"bottom\":{\"__ndarray__\":\"AAAAAAAAAAAAAAAAAAAAAAAAAAAAAAAAAAAAAAAAAAAAAAAAAAAAADMzMzMzY2hAZmZmZmbWZ0DNzMzMzMxlQGZmZmZm5mRAMzMzMzMTYUA=\",\"dtype\":\"float64\",\"order\":\"little\",\"shape\":[10]},\"top\":{\"__ndarray__\":\"MzMzMzNjaEBmZmZmZtZnQM3MzMzMzGVAZmZmZmbmZEAzMzMzMxNhQGZmZmZmFnNAAAAAAABwcEAAAAAAALBvQDMzMzMzo21AAAAAAADQZUA=\",\"dtype\":\"float64\",\"order\":\"little\",\"shape\":[10]},\"value\":{\"__ndarray__\":\"MzMzMzNjaEBmZmZmZtZnQM3MzMzMzGVAZmZmZmbmZEAzMzMzMxNhQDMzMzMzk1tAMzMzMzMTUkBmZmZmZsZTQJqZmZmZeVFAMzMzMzPzQkA=\",\"dtype\":\"float64\",\"order\":\"little\",\"shape\":[10]}},\"selected\":{\"id\":\"1043\"},\"selection_policy\":{\"id\":\"1064\"}},\"id\":\"1042\",\"type\":\"ColumnDataSource\"},{\"attributes\":{},\"id\":\"1022\",\"type\":\"CategoricalTicker\"},{\"attributes\":{},\"id\":\"1025\",\"type\":\"BasicTicker\"},{\"attributes\":{},\"id\":\"1052\",\"type\":\"CategoricalTickFormatter\"},{\"attributes\":{},\"id\":\"1056\",\"type\":\"AllLabels\"},{\"attributes\":{\"coordinates\":null,\"group\":null,\"text\":\"Quality of Life & Cost of Living Index (max)\",\"text_color\":\"black\",\"text_font_size\":\"12pt\"},\"id\":\"1013\",\"type\":\"Title\"},{\"attributes\":{\"bottom_units\":\"screen\",\"coordinates\":null,\"fill_alpha\":0.5,\"fill_color\":\"lightgrey\",\"group\":null,\"left_units\":\"screen\",\"level\":\"overlay\",\"line_alpha\":1.0,\"line_color\":\"black\",\"line_dash\":[4,4],\"line_width\":2,\"right_units\":\"screen\",\"syncable\":false,\"top_units\":\"screen\"},\"id\":\"1033\",\"type\":\"BoxAnnotation\"},{\"attributes\":{\"end\":318.48999999999995,\"reset_end\":318.48999999999995,\"reset_start\":0.0,\"tags\":[[[\"value\",\"value\",null]]]},\"id\":\"1010\",\"type\":\"Range1d\"},{\"attributes\":{\"bottom\":{\"field\":\"bottom\"},\"fill_alpha\":{\"value\":0.1},\"fill_color\":{\"field\":\"Variable\",\"transform\":{\"id\":\"1041\"}},\"hatch_alpha\":{\"value\":0.1},\"hatch_color\":{\"field\":\"Variable\",\"transform\":{\"id\":\"1041\"}},\"line_alpha\":{\"value\":0.1},\"top\":{\"field\":\"top\"},\"width\":{\"value\":0.8},\"x\":{\"field\":\"Continent\"}},\"id\":\"1046\",\"type\":\"VBar\"},{\"attributes\":{},\"id\":\"1064\",\"type\":\"UnionRenderers\"},{\"attributes\":{\"margin\":[5,5,5,5],\"name\":\"HSpacer01249\",\"sizing_mode\":\"stretch_width\"},\"id\":\"1067\",\"type\":\"Spacer\"},{\"attributes\":{\"axis_label\":\"Continent\",\"coordinates\":null,\"formatter\":{\"id\":\"1052\"},\"group\":null,\"major_label_policy\":{\"id\":\"1053\"},\"ticker\":{\"id\":\"1022\"}},\"id\":\"1021\",\"type\":\"CategoricalAxis\"},{\"attributes\":{},\"id\":\"1029\",\"type\":\"PanTool\"},{\"attributes\":{\"tools\":[{\"id\":\"1011\"},{\"id\":\"1028\"},{\"id\":\"1029\"},{\"id\":\"1030\"},{\"id\":\"1031\"},{\"id\":\"1032\"}]},\"id\":\"1034\",\"type\":\"Toolbar\"},{\"attributes\":{},\"id\":\"1030\",\"type\":\"WheelZoomTool\"},{\"attributes\":{\"margin\":[5,5,5,5],\"name\":\"HSpacer01248\",\"sizing_mode\":\"stretch_width\"},\"id\":\"1008\",\"type\":\"Spacer\"}],\"root_ids\":[\"1007\"]},\"title\":\"Bokeh Application\",\"version\":\"2.4.3\"}};\n",
       "    var render_items = [{\"docid\":\"4635a0ba-3d57-4259-a3f4-f63c241f939b\",\"root_ids\":[\"1007\"],\"roots\":{\"1007\":\"c87ec2c2-775c-47bf-84ed-0dc27c4a04a1\"}}];\n",
       "    root.Bokeh.embed.embed_items_notebook(docs_json, render_items);\n",
       "    for (const render_item of render_items) {\n",
       "      for (const root_id of render_item.root_ids) {\n",
       "\tconst id_el = document.getElementById(root_id)\n",
       "\tif (id_el.children.length && (id_el.children[0].className === 'bk-root')) {\n",
       "\t  const root_el = id_el.children[0]\n",
       "\t  root_el.id = root_el.id + '-rendered'\n",
       "\t}\n",
       "      }\n",
       "    }\n",
       "  }\n",
       "  if (root.Bokeh !== undefined && root.Bokeh.Panel !== undefined && ( root['Tabulator'] !== undefined) && ( root['Tabulator'] !== undefined) && ( root['Tabulator'] !== undefined)) {\n",
       "    embed_document(root);\n",
       "  } else {\n",
       "    var attempts = 0;\n",
       "    var timer = setInterval(function(root) {\n",
       "      if (root.Bokeh !== undefined && root.Bokeh.Panel !== undefined && (root['Tabulator'] !== undefined) && (root['Tabulator'] !== undefined) && (root['Tabulator'] !== undefined)) {\n",
       "        clearInterval(timer);\n",
       "        embed_document(root);\n",
       "      } else if (document.readyState == \"complete\") {\n",
       "        attempts++;\n",
       "        if (attempts > 200) {\n",
       "          clearInterval(timer);\n",
       "          console.log(\"Bokeh: ERROR: Unable to run BokehJS code because BokehJS library is missing\");\n",
       "        }\n",
       "      }\n",
       "    }, 25, root)\n",
       "  }\n",
       "})(window);</script>"
      ],
      "text/plain": [
       ":Bars   [Continent,Variable]   (value)"
      ]
     },
     "execution_count": 24,
     "metadata": {
      "application/vnd.holoviews_exec.v0+json": {
       "id": "1007"
      }
     },
     "output_type": "execute_result"
    }
   ],
   "source": [
    "# stacked bar chart\n",
    "\n",
    "stacked_bar = round(df.groupby(['Continent'])[['Quality_of_Life_Index', 'Cost_of_Living_Index']].max().sort_values(by='Quality_of_Life_Index',ascending=False), 2)\n",
    "viz_2 = stacked_bar.hvplot(x='Continent', y=['Quality_of_Life_Index','Cost_of_Living_Index'], kind='bar', c='#E74C3C', \n",
    "                      title='Quality of Life & Cost of Living Index (max)', width=550, stacked=True, legend=False)\n",
    "viz_2"
   ]
  },
  {
   "cell_type": "code",
   "execution_count": null,
   "id": "42688d33",
   "metadata": {},
   "outputs": [],
   "source": []
  },
  {
   "cell_type": "code",
   "execution_count": 26,
   "id": "68180d2b",
   "metadata": {},
   "outputs": [
    {
     "data": {},
     "metadata": {},
     "output_type": "display_data"
    },
    {
     "data": {},
     "metadata": {},
     "output_type": "display_data"
    },
    {
     "data": {
      "application/vnd.holoviews_exec.v0+json": "",
      "text/html": [
       "<div id='1119'>\n",
       "  <div class=\"bk-root\" id=\"7c941ddb-901b-485b-a518-4eaa6b0bfbf4\" data-root-id=\"1119\"></div>\n",
       "</div>\n",
       "<script type=\"application/javascript\">(function(root) {\n",
       "  function embed_document(root) {\n",
       "    var docs_json = {\"6497f7a9-e73c-4615-9203-0c9c88d68840\":{\"defs\":[{\"extends\":null,\"module\":null,\"name\":\"ReactiveHTML1\",\"overrides\":[],\"properties\":[]},{\"extends\":null,\"module\":null,\"name\":\"FlexBox1\",\"overrides\":[],\"properties\":[{\"default\":\"flex-start\",\"kind\":null,\"name\":\"align_content\"},{\"default\":\"flex-start\",\"kind\":null,\"name\":\"align_items\"},{\"default\":\"row\",\"kind\":null,\"name\":\"flex_direction\"},{\"default\":\"wrap\",\"kind\":null,\"name\":\"flex_wrap\"},{\"default\":\"flex-start\",\"kind\":null,\"name\":\"justify_content\"}]},{\"extends\":null,\"module\":null,\"name\":\"GridStack1\",\"overrides\":[],\"properties\":[{\"default\":\"warn\",\"kind\":null,\"name\":\"mode\"},{\"default\":null,\"kind\":null,\"name\":\"ncols\"},{\"default\":null,\"kind\":null,\"name\":\"nrows\"},{\"default\":true,\"kind\":null,\"name\":\"allow_resize\"},{\"default\":true,\"kind\":null,\"name\":\"allow_drag\"},{\"default\":[],\"kind\":null,\"name\":\"state\"}]},{\"extends\":null,\"module\":null,\"name\":\"click1\",\"overrides\":[],\"properties\":[{\"default\":\"\",\"kind\":null,\"name\":\"terminal_output\"},{\"default\":\"\",\"kind\":null,\"name\":\"debug_name\"},{\"default\":0,\"kind\":null,\"name\":\"clears\"}]},{\"extends\":null,\"module\":null,\"name\":\"NotificationAreaBase1\",\"overrides\":[],\"properties\":[{\"default\":\"bottom-right\",\"kind\":null,\"name\":\"position\"},{\"default\":0,\"kind\":null,\"name\":\"_clear\"}]},{\"extends\":null,\"module\":null,\"name\":\"NotificationArea1\",\"overrides\":[],\"properties\":[{\"default\":[],\"kind\":null,\"name\":\"notifications\"},{\"default\":\"bottom-right\",\"kind\":null,\"name\":\"position\"},{\"default\":0,\"kind\":null,\"name\":\"_clear\"},{\"default\":[{\"background\":\"#ffc107\",\"icon\":{\"className\":\"fas fa-exclamation-triangle\",\"color\":\"white\",\"tagName\":\"i\"},\"type\":\"warning\"},{\"background\":\"#007bff\",\"icon\":{\"className\":\"fas fa-info-circle\",\"color\":\"white\",\"tagName\":\"i\"},\"type\":\"info\"}],\"kind\":null,\"name\":\"types\"}]},{\"extends\":null,\"module\":null,\"name\":\"Notification\",\"overrides\":[],\"properties\":[{\"default\":null,\"kind\":null,\"name\":\"background\"},{\"default\":3000,\"kind\":null,\"name\":\"duration\"},{\"default\":null,\"kind\":null,\"name\":\"icon\"},{\"default\":\"\",\"kind\":null,\"name\":\"message\"},{\"default\":null,\"kind\":null,\"name\":\"notification_type\"},{\"default\":false,\"kind\":null,\"name\":\"_destroyed\"}]},{\"extends\":null,\"module\":null,\"name\":\"TemplateActions1\",\"overrides\":[],\"properties\":[{\"default\":0,\"kind\":null,\"name\":\"open_modal\"},{\"default\":0,\"kind\":null,\"name\":\"close_modal\"}]},{\"extends\":null,\"module\":null,\"name\":\"MaterialTemplateActions1\",\"overrides\":[],\"properties\":[{\"default\":0,\"kind\":null,\"name\":\"open_modal\"},{\"default\":0,\"kind\":null,\"name\":\"close_modal\"}]}],\"roots\":{\"references\":[{\"attributes\":{\"source\":{\"id\":\"1160\"}},\"id\":\"1169\",\"type\":\"CDSView\"},{\"attributes\":{},\"id\":\"1184\",\"type\":\"NoOverlap\"},{\"attributes\":{},\"id\":\"1136\",\"type\":\"LinearScale\"},{\"attributes\":{\"fill_color\":{\"field\":\"color\",\"transform\":{\"id\":\"1159\"}},\"hatch_color\":{\"field\":\"color\",\"transform\":{\"id\":\"1159\"}},\"line_color\":{\"field\":\"color\",\"transform\":{\"id\":\"1159\"}},\"size\":{\"value\":5.477225575051661},\"x\":{\"field\":\"Quality_of_Life_Index\"},\"y\":{\"field\":\"Cost_of_Living_Index\"}},\"id\":\"1165\",\"type\":\"Scatter\"},{\"attributes\":{\"coordinates\":null,\"group\":null,\"text\":\"Relationship between Quality of Life & Cost of Living\",\"text_color\":\"black\",\"text_font_size\":\"12pt\"},\"id\":\"1130\",\"type\":\"Title\"},{\"attributes\":{\"axis_label\":\"Quality_of_Life_Index\",\"coordinates\":null,\"formatter\":{\"id\":\"1173\"},\"group\":null,\"major_label_policy\":{\"id\":\"1174\"},\"ticker\":{\"id\":\"1139\"}},\"id\":\"1138\",\"type\":\"LinearAxis\"},{\"attributes\":{},\"id\":\"1174\",\"type\":\"AllLabels\"},{\"attributes\":{},\"id\":\"1147\",\"type\":\"PanTool\"},{\"attributes\":{},\"id\":\"1173\",\"type\":\"BasicTickFormatter\"},{\"attributes\":{\"axis\":{\"id\":\"1138\"},\"coordinates\":null,\"group\":null,\"ticker\":{\"id\":\"1139\"}},\"id\":\"1141\",\"type\":\"Grid\"},{\"attributes\":{},\"id\":\"1176\",\"type\":\"BasicTickFormatter\"},{\"attributes\":{},\"id\":\"1177\",\"type\":\"AllLabels\"},{\"attributes\":{\"children\":[{\"id\":\"1123\"}],\"margin\":[0,0,0,0],\"name\":\"Column01579\"},\"id\":\"1122\",\"type\":\"Column\"},{\"attributes\":{},\"id\":\"1139\",\"type\":\"BasicTicker\"},{\"attributes\":{\"axis_label\":\"Cost_of_Living_Index\",\"coordinates\":null,\"formatter\":{\"id\":\"1176\"},\"group\":null,\"major_label_policy\":{\"id\":\"1177\"},\"ticker\":{\"id\":\"1143\"}},\"id\":\"1142\",\"type\":\"LinearAxis\"},{\"attributes\":{},\"id\":\"1188\",\"type\":\"UnionRenderers\"},{\"attributes\":{\"axis\":{\"id\":\"1142\"},\"coordinates\":null,\"dimension\":1,\"group\":null,\"ticker\":{\"id\":\"1143\"}},\"id\":\"1145\",\"type\":\"Grid\"},{\"attributes\":{},\"id\":\"1143\",\"type\":\"BasicTicker\"},{\"attributes\":{},\"id\":\"1148\",\"type\":\"WheelZoomTool\"},{\"attributes\":{},\"id\":\"1146\",\"type\":\"SaveTool\"},{\"attributes\":{\"children\":[{\"id\":\"1120\"}],\"margin\":[0,0,0,0],\"name\":\"Row01705\"},\"id\":\"1119\",\"type\":\"Row\"},{\"attributes\":{\"overlay\":{\"id\":\"1151\"}},\"id\":\"1149\",\"type\":\"BoxZoomTool\"},{\"attributes\":{},\"id\":\"1150\",\"type\":\"ResetTool\"},{\"attributes\":{\"children\":[{\"id\":\"1121\"},{\"id\":\"1125\"}],\"margin\":[0,0,0,0],\"name\":\"Column01704\"},\"id\":\"1120\",\"type\":\"Column\"},{\"attributes\":{\"bottom_units\":\"screen\",\"coordinates\":null,\"fill_alpha\":0.5,\"fill_color\":\"lightgrey\",\"group\":null,\"left_units\":\"screen\",\"level\":\"overlay\",\"line_alpha\":1.0,\"line_color\":\"black\",\"line_dash\":[4,4],\"line_width\":2,\"right_units\":\"screen\",\"syncable\":false,\"top_units\":\"screen\"},\"id\":\"1151\",\"type\":\"BoxAnnotation\"},{\"attributes\":{\"children\":[{\"id\":\"1129\"}],\"margin\":[0,0,0,0],\"name\":\"Row01584\"},\"id\":\"1125\",\"type\":\"Row\"},{\"attributes\":{\"margin\":[5,10,5,10],\"options\":[\"Asia\",\"Europe\",\"America\",\"Africa\",\"Oceania\"],\"title\":\"Choose your Continent\",\"value\":\"Asia\"},\"id\":\"1123\",\"type\":\"panel.models.widgets.CustomSelect\"},{\"attributes\":{\"tools\":[{\"id\":\"1128\"},{\"id\":\"1146\"},{\"id\":\"1147\"},{\"id\":\"1148\"},{\"id\":\"1149\"},{\"id\":\"1150\"}]},\"id\":\"1152\",\"type\":\"Toolbar\"},{\"attributes\":{\"high\":174.4,\"low\":68.5,\"palette\":[\"#f7fbff\",\"#f6faff\",\"#f5fafe\",\"#f5f9fe\",\"#f4f9fe\",\"#f3f8fe\",\"#f2f8fd\",\"#f2f7fd\",\"#f1f7fd\",\"#f0f6fd\",\"#eff6fc\",\"#eef5fc\",\"#eef5fc\",\"#edf4fc\",\"#ecf4fb\",\"#ebf3fb\",\"#eaf3fb\",\"#eaf2fb\",\"#e9f2fa\",\"#e8f1fa\",\"#e7f1fa\",\"#e7f0fa\",\"#e6f0f9\",\"#e5eff9\",\"#e4eff9\",\"#e3eef9\",\"#e3eef8\",\"#e2edf8\",\"#e1edf8\",\"#e0ecf8\",\"#dfecf7\",\"#dfebf7\",\"#deebf7\",\"#ddeaf7\",\"#dceaf6\",\"#dce9f6\",\"#dbe9f6\",\"#dae8f6\",\"#d9e8f5\",\"#d9e7f5\",\"#d8e7f5\",\"#d7e6f5\",\"#d6e6f4\",\"#d6e5f4\",\"#d5e5f4\",\"#d4e4f4\",\"#d3e4f3\",\"#d3e3f3\",\"#d2e3f3\",\"#d1e2f3\",\"#d0e2f2\",\"#d0e1f2\",\"#cfe1f2\",\"#cee0f2\",\"#cde0f1\",\"#cddff1\",\"#ccdff1\",\"#cbdef1\",\"#cadef0\",\"#caddf0\",\"#c9ddf0\",\"#c8dcf0\",\"#c7dcef\",\"#c7dbef\",\"#c6dbef\",\"#c4daee\",\"#c3daee\",\"#c2d9ee\",\"#c1d9ed\",\"#bfd8ed\",\"#bed8ec\",\"#bdd7ec\",\"#bcd7eb\",\"#bad6eb\",\"#b9d6ea\",\"#b8d5ea\",\"#b7d4ea\",\"#b5d4e9\",\"#b4d3e9\",\"#b3d3e8\",\"#b2d2e8\",\"#b0d2e7\",\"#afd1e7\",\"#aed1e7\",\"#add0e6\",\"#abd0e6\",\"#aacfe5\",\"#a9cfe5\",\"#a8cee4\",\"#a6cee4\",\"#a5cde3\",\"#a4cce3\",\"#a3cce3\",\"#a1cbe2\",\"#a0cbe2\",\"#9fcae1\",\"#9dcae1\",\"#9cc9e1\",\"#9ac8e0\",\"#99c7e0\",\"#97c6df\",\"#95c5df\",\"#94c4df\",\"#92c4de\",\"#91c3de\",\"#8fc2de\",\"#8dc1dd\",\"#8cc0dd\",\"#8abfdd\",\"#89bedc\",\"#87bddc\",\"#85bcdc\",\"#84bcdb\",\"#82bbdb\",\"#81badb\",\"#7fb9da\",\"#7db8da\",\"#7cb7da\",\"#7ab6d9\",\"#79b5d9\",\"#77b5d9\",\"#75b4d8\",\"#74b3d8\",\"#72b2d8\",\"#71b1d7\",\"#6fb0d7\",\"#6dafd7\",\"#6caed6\",\"#6aaed6\",\"#69add5\",\"#68acd5\",\"#66abd4\",\"#65aad4\",\"#64a9d3\",\"#63a8d3\",\"#61a7d2\",\"#60a7d2\",\"#5fa6d1\",\"#5da5d1\",\"#5ca4d0\",\"#5ba3d0\",\"#5aa2cf\",\"#58a1cf\",\"#57a0ce\",\"#56a0ce\",\"#549fcd\",\"#539ecd\",\"#529dcc\",\"#519ccc\",\"#4f9bcb\",\"#4e9acb\",\"#4d99ca\",\"#4b98ca\",\"#4a98c9\",\"#4997c9\",\"#4896c8\",\"#4695c8\",\"#4594c7\",\"#4493c7\",\"#4292c6\",\"#4191c6\",\"#4090c5\",\"#3f8fc5\",\"#3e8ec4\",\"#3d8dc4\",\"#3c8cc3\",\"#3b8bc2\",\"#3a8ac2\",\"#3989c1\",\"#3888c1\",\"#3787c0\",\"#3686c0\",\"#3585bf\",\"#3484bf\",\"#3383be\",\"#3282be\",\"#3181bd\",\"#3080bd\",\"#2f7fbc\",\"#2e7ebc\",\"#2d7dbb\",\"#2c7cba\",\"#2b7bba\",\"#2a7ab9\",\"#2979b9\",\"#2777b8\",\"#2676b8\",\"#2575b7\",\"#2474b7\",\"#2373b6\",\"#2272b6\",\"#2171b5\",\"#2070b4\",\"#206fb4\",\"#1f6eb3\",\"#1e6db2\",\"#1d6cb1\",\"#1c6bb0\",\"#1c6ab0\",\"#1b69af\",\"#1a68ae\",\"#1967ad\",\"#1966ad\",\"#1865ac\",\"#1764ab\",\"#1663aa\",\"#1562a9\",\"#1561a9\",\"#1460a8\",\"#135fa7\",\"#125ea6\",\"#125da6\",\"#115ca5\",\"#105ba4\",\"#0f5aa3\",\"#0e59a2\",\"#0e58a2\",\"#0d57a1\",\"#0c56a0\",\"#0b559f\",\"#0a549e\",\"#0a539e\",\"#09529d\",\"#08519c\",\"#08509b\",\"#084f99\",\"#084e98\",\"#084d96\",\"#084c95\",\"#084b93\",\"#084a91\",\"#084990\",\"#08488e\",\"#08478d\",\"#08468b\",\"#08458a\",\"#084488\",\"#084387\",\"#084285\",\"#084184\",\"#084082\",\"#083e81\",\"#083d7f\",\"#083c7d\",\"#083b7c\",\"#083a7a\",\"#083979\",\"#083877\",\"#083776\",\"#083674\",\"#083573\",\"#083471\",\"#083370\",\"#08326e\",\"#08316d\",\"#08306b\"]},\"id\":\"1159\",\"type\":\"LinearColorMapper\"},{\"attributes\":{\"margin\":[5,5,5,5],\"name\":\"HSpacer01702\",\"sizing_mode\":\"stretch_width\"},\"id\":\"1124\",\"type\":\"Spacer\"},{\"attributes\":{\"fill_alpha\":{\"value\":0.1},\"fill_color\":{\"field\":\"color\",\"transform\":{\"id\":\"1159\"}},\"hatch_alpha\":{\"value\":0.1},\"hatch_color\":{\"field\":\"color\",\"transform\":{\"id\":\"1159\"}},\"line_alpha\":{\"value\":0.1},\"line_color\":{\"field\":\"color\",\"transform\":{\"id\":\"1159\"}},\"size\":{\"value\":5.477225575051661},\"x\":{\"field\":\"Quality_of_Life_Index\"},\"y\":{\"field\":\"Cost_of_Living_Index\"}},\"id\":\"1164\",\"type\":\"Scatter\"},{\"attributes\":{\"bar_line_color\":\"black\",\"color_mapper\":{\"id\":\"1159\"},\"coordinates\":null,\"group\":null,\"label_standoff\":8,\"location\":[0,0],\"major_label_policy\":{\"id\":\"1184\"},\"major_tick_line_color\":\"black\",\"ticker\":{\"id\":\"1170\"}},\"id\":\"1171\",\"type\":\"ColorBar\"},{\"attributes\":{},\"id\":\"1170\",\"type\":\"BasicTicker\"},{\"attributes\":{\"client_comm_id\":\"f0bd941acfa64e77b51ab87f14fb02e6\",\"comm_id\":\"103e6883b69f4de0b0db3d3097a579d6\",\"plot_id\":\"1119\"},\"id\":\"1224\",\"type\":\"panel.models.comm_manager.CommManager\"},{\"attributes\":{\"fill_alpha\":{\"value\":0.2},\"fill_color\":{\"field\":\"color\",\"transform\":{\"id\":\"1159\"}},\"hatch_alpha\":{\"value\":0.2},\"hatch_color\":{\"field\":\"color\",\"transform\":{\"id\":\"1159\"}},\"line_alpha\":{\"value\":0.2},\"line_color\":{\"field\":\"color\",\"transform\":{\"id\":\"1159\"}},\"size\":{\"value\":5.477225575051661},\"x\":{\"field\":\"Quality_of_Life_Index\"},\"y\":{\"field\":\"Cost_of_Living_Index\"}},\"id\":\"1167\",\"type\":\"Scatter\"},{\"attributes\":{\"children\":[{\"id\":\"1122\"},{\"id\":\"1124\"}],\"margin\":[0,0,0,0],\"name\":\"Row01703\"},\"id\":\"1121\",\"type\":\"Row\"},{\"attributes\":{\"end\":178.93857142857144,\"reset_end\":178.93857142857144,\"reset_start\":63.96142857142857,\"start\":63.96142857142857,\"tags\":[[[\"Quality_of_Life_Index\",\"Quality_of_Life_Index\",null]]]},\"id\":\"1126\",\"type\":\"Range1d\"},{\"attributes\":{\"below\":[{\"id\":\"1138\"}],\"center\":[{\"id\":\"1141\"},{\"id\":\"1145\"}],\"height\":300,\"left\":[{\"id\":\"1142\"}],\"margin\":[5,5,5,5],\"min_border_bottom\":10,\"min_border_left\":10,\"min_border_right\":10,\"min_border_top\":10,\"renderers\":[{\"id\":\"1168\"}],\"right\":[{\"id\":\"1171\"}],\"sizing_mode\":\"fixed\",\"title\":{\"id\":\"1130\"},\"toolbar\":{\"id\":\"1152\"},\"width\":700,\"x_range\":{\"id\":\"1126\"},\"x_scale\":{\"id\":\"1134\"},\"y_range\":{\"id\":\"1127\"},\"y_scale\":{\"id\":\"1136\"}},\"id\":\"1129\",\"subtype\":\"Figure\",\"type\":\"Plot\"},{\"attributes\":{\"fill_color\":{\"field\":\"color\",\"transform\":{\"id\":\"1159\"}},\"hatch_color\":{\"field\":\"color\",\"transform\":{\"id\":\"1159\"}},\"line_color\":{\"field\":\"color\",\"transform\":{\"id\":\"1159\"}},\"size\":{\"value\":5.477225575051661},\"x\":{\"field\":\"Quality_of_Life_Index\"},\"y\":{\"field\":\"Cost_of_Living_Index\"}},\"id\":\"1163\",\"type\":\"Scatter\"},{\"attributes\":{\"fill_color\":{\"field\":\"color\",\"transform\":{\"id\":\"1159\"}},\"hatch_color\":{\"field\":\"color\",\"transform\":{\"id\":\"1159\"}},\"line_color\":{\"field\":\"color\",\"transform\":{\"id\":\"1159\"}},\"size\":{\"value\":5.477225575051661},\"x\":{\"field\":\"Quality_of_Life_Index\"},\"y\":{\"field\":\"Cost_of_Living_Index\"}},\"id\":\"1166\",\"type\":\"Scatter\"},{\"attributes\":{\"callback\":null,\"renderers\":[{\"id\":\"1168\"}],\"tags\":[\"hv_created\"],\"tooltips\":[[\"Quality_of_Life_Index\",\"@{Quality_of_Life_Index}\"],[\"Cost_of_Living_Index\",\"@{Cost_of_Living_Index}\"]]},\"id\":\"1128\",\"type\":\"HoverTool\"},{\"attributes\":{},\"id\":\"1161\",\"type\":\"Selection\"},{\"attributes\":{\"end\":85.22999999999999,\"reset_end\":85.22999999999999,\"reset_start\":11.670000000000002,\"start\":11.670000000000002,\"tags\":[[[\"Cost_of_Living_Index\",\"Cost_of_Living_Index\",null]]]},\"id\":\"1127\",\"type\":\"Range1d\"},{\"attributes\":{\"coordinates\":null,\"data_source\":{\"id\":\"1160\"},\"glyph\":{\"id\":\"1163\"},\"group\":null,\"hover_glyph\":{\"id\":\"1166\"},\"muted_glyph\":{\"id\":\"1167\"},\"nonselection_glyph\":{\"id\":\"1164\"},\"selection_glyph\":{\"id\":\"1165\"},\"view\":{\"id\":\"1169\"}},\"id\":\"1168\",\"type\":\"GlyphRenderer\"},{\"attributes\":{},\"id\":\"1134\",\"type\":\"LinearScale\"},{\"attributes\":{\"data\":{\"Cost_of_Living_Index\":{\"__ndarray__\":\"AAAAAAAATUBmZmZmZmZPQM3MzMzMDEhAzczMzMxMTkBmZmZmZsZTQGZmZmZmJklAAAAAAABASkAzMzMzM1NTQDMzMzMz80tAAAAAAADAUEBmZmZmZuY3QDMzMzMzM0FAZmZmZmZmPEAzMzMzM3NBQAAAAAAAAEdAAAAAAADAR0DNzMzMzEw8QGZmZmZmJlNAzczMzMzMMUDNzMzMzExDQAAAAAAAIFFAmpmZmZkZQEAAAAAAAIA6QGZmZmZmJkRAzczMzMzMQUDNzMzMzMxAQAAAAAAAQEJAZmZmZmZmNkDNzMzMzEw9QA==\",\"dtype\":\"float64\",\"order\":\"little\",\"shape\":[29]},\"Quality_of_Life_Index\":{\"__ndarray__\":\"zczMzMzMZUAzMzMzM5NlQDMzMzMzg2VAMzMzMzNzY0AAAAAAAFBjQGZmZmZmxmJAZmZmZmaGYkDNzMzMzExiQJqZmZmZ+WFAmpmZmZlZYECamZmZmRlfQGZmZmZmZl5AAAAAAADgXUDNzMzMzMxdQDMzMzMzs11AzczMzMxsXEAzMzMzMzNbQJqZmZmZ+VlAZmZmZmbGWUCamZmZmXlZQM3MzMzMbFhAmpmZmZk5WEBmZmZmZiZYQGZmZmZm5ldAMzMzMzOTVUCamZmZmVlUQJqZmZmZWVFAmpmZmZk5UUAAAAAAACBRQA==\",\"dtype\":\"float64\",\"order\":\"little\",\"shape\":[29]},\"color\":{\"__ndarray__\":\"zczMzMzMZUAzMzMzM5NlQDMzMzMzg2VAMzMzMzNzY0AAAAAAAFBjQGZmZmZmxmJAZmZmZmaGYkDNzMzMzExiQJqZmZmZ+WFAmpmZmZlZYECamZmZmRlfQGZmZmZmZl5AAAAAAADgXUDNzMzMzMxdQDMzMzMzs11AzczMzMxsXEAzMzMzMzNbQJqZmZmZ+VlAZmZmZmbGWUCamZmZmXlZQM3MzMzMbFhAmpmZmZk5WEBmZmZmZiZYQGZmZmZm5ldAMzMzMzOTVUCamZmZmVlUQJqZmZmZWVFAmpmZmZk5UUAAAAAAACBRQA==\",\"dtype\":\"float64\",\"order\":\"little\",\"shape\":[29]}},\"selected\":{\"id\":\"1161\"},\"selection_policy\":{\"id\":\"1188\"}},\"id\":\"1160\",\"type\":\"ColumnDataSource\"}],\"root_ids\":[\"1119\",\"1224\"]},\"title\":\"Bokeh Application\",\"version\":\"2.4.3\"}};\n",
       "    var render_items = [{\"docid\":\"6497f7a9-e73c-4615-9203-0c9c88d68840\",\"root_ids\":[\"1119\"],\"roots\":{\"1119\":\"7c941ddb-901b-485b-a518-4eaa6b0bfbf4\"}}];\n",
       "    root.Bokeh.embed.embed_items_notebook(docs_json, render_items);\n",
       "    for (const render_item of render_items) {\n",
       "      for (const root_id of render_item.root_ids) {\n",
       "\tconst id_el = document.getElementById(root_id)\n",
       "\tif (id_el.children.length && (id_el.children[0].className === 'bk-root')) {\n",
       "\t  const root_el = id_el.children[0]\n",
       "\t  root_el.id = root_el.id + '-rendered'\n",
       "\t}\n",
       "      }\n",
       "    }\n",
       "  }\n",
       "  if (root.Bokeh !== undefined && root.Bokeh.Panel !== undefined && ( root['Tabulator'] !== undefined) && ( root['Tabulator'] !== undefined) && ( root['Tabulator'] !== undefined)) {\n",
       "    embed_document(root);\n",
       "  } else {\n",
       "    var attempts = 0;\n",
       "    var timer = setInterval(function(root) {\n",
       "      if (root.Bokeh !== undefined && root.Bokeh.Panel !== undefined && (root['Tabulator'] !== undefined) && (root['Tabulator'] !== undefined) && (root['Tabulator'] !== undefined)) {\n",
       "        clearInterval(timer);\n",
       "        embed_document(root);\n",
       "      } else if (document.readyState == \"complete\") {\n",
       "        attempts++;\n",
       "        if (attempts > 200) {\n",
       "          clearInterval(timer);\n",
       "          console.log(\"Bokeh: ERROR: Unable to run BokehJS code because BokehJS library is missing\");\n",
       "        }\n",
       "      }\n",
       "    }, 25, root)\n",
       "  }\n",
       "})(window);</script>"
      ],
      "text/plain": [
       "<hvplot.interactive.Interactive at 0x22a2954eee0>"
      ]
     },
     "execution_count": 26,
     "metadata": {
      "application/vnd.holoviews_exec.v0+json": {
       "id": "1119"
      }
     },
     "output_type": "execute_result"
    }
   ],
   "source": [
    "# scatter chart \n",
    "\n",
    "viz_3=data_pipeline.hvplot(x='Quality_of_Life_Index', y='Cost_of_Living_Index', kind='scatter', \n",
    "                           c='Quality_of_Life_Index',\n",
    "                          title='Relationship between Quality of Life & Cost of Living', \n",
    "                          colorbar=True, colormap='blues', grid=True)\n",
    "viz_3"
   ]
  },
  {
   "cell_type": "code",
   "execution_count": 27,
   "id": "74c87e1e",
   "metadata": {},
   "outputs": [
    {
     "data": {},
     "metadata": {},
     "output_type": "display_data"
    },
    {
     "data": {},
     "metadata": {},
     "output_type": "display_data"
    },
    {
     "data": {
      "application/vnd.holoviews_exec.v0+json": "",
      "text/html": [
       "<div id='1280'>\n",
       "  <div class=\"bk-root\" id=\"0c9a42ce-4aad-48f2-bada-715541753a6c\" data-root-id=\"1280\"></div>\n",
       "</div>\n",
       "<script type=\"application/javascript\">(function(root) {\n",
       "  function embed_document(root) {\n",
       "    var docs_json = {\"92652675-e3be-4e6b-8dc5-61333d98c153\":{\"defs\":[{\"extends\":null,\"module\":null,\"name\":\"ReactiveHTML1\",\"overrides\":[],\"properties\":[]},{\"extends\":null,\"module\":null,\"name\":\"FlexBox1\",\"overrides\":[],\"properties\":[{\"default\":\"flex-start\",\"kind\":null,\"name\":\"align_content\"},{\"default\":\"flex-start\",\"kind\":null,\"name\":\"align_items\"},{\"default\":\"row\",\"kind\":null,\"name\":\"flex_direction\"},{\"default\":\"wrap\",\"kind\":null,\"name\":\"flex_wrap\"},{\"default\":\"flex-start\",\"kind\":null,\"name\":\"justify_content\"}]},{\"extends\":null,\"module\":null,\"name\":\"GridStack1\",\"overrides\":[],\"properties\":[{\"default\":\"warn\",\"kind\":null,\"name\":\"mode\"},{\"default\":null,\"kind\":null,\"name\":\"ncols\"},{\"default\":null,\"kind\":null,\"name\":\"nrows\"},{\"default\":true,\"kind\":null,\"name\":\"allow_resize\"},{\"default\":true,\"kind\":null,\"name\":\"allow_drag\"},{\"default\":[],\"kind\":null,\"name\":\"state\"}]},{\"extends\":null,\"module\":null,\"name\":\"click1\",\"overrides\":[],\"properties\":[{\"default\":\"\",\"kind\":null,\"name\":\"terminal_output\"},{\"default\":\"\",\"kind\":null,\"name\":\"debug_name\"},{\"default\":0,\"kind\":null,\"name\":\"clears\"}]},{\"extends\":null,\"module\":null,\"name\":\"NotificationAreaBase1\",\"overrides\":[],\"properties\":[{\"default\":\"bottom-right\",\"kind\":null,\"name\":\"position\"},{\"default\":0,\"kind\":null,\"name\":\"_clear\"}]},{\"extends\":null,\"module\":null,\"name\":\"NotificationArea1\",\"overrides\":[],\"properties\":[{\"default\":[],\"kind\":null,\"name\":\"notifications\"},{\"default\":\"bottom-right\",\"kind\":null,\"name\":\"position\"},{\"default\":0,\"kind\":null,\"name\":\"_clear\"},{\"default\":[{\"background\":\"#ffc107\",\"icon\":{\"className\":\"fas fa-exclamation-triangle\",\"color\":\"white\",\"tagName\":\"i\"},\"type\":\"warning\"},{\"background\":\"#007bff\",\"icon\":{\"className\":\"fas fa-info-circle\",\"color\":\"white\",\"tagName\":\"i\"},\"type\":\"info\"}],\"kind\":null,\"name\":\"types\"}]},{\"extends\":null,\"module\":null,\"name\":\"Notification\",\"overrides\":[],\"properties\":[{\"default\":null,\"kind\":null,\"name\":\"background\"},{\"default\":3000,\"kind\":null,\"name\":\"duration\"},{\"default\":null,\"kind\":null,\"name\":\"icon\"},{\"default\":\"\",\"kind\":null,\"name\":\"message\"},{\"default\":null,\"kind\":null,\"name\":\"notification_type\"},{\"default\":false,\"kind\":null,\"name\":\"_destroyed\"}]},{\"extends\":null,\"module\":null,\"name\":\"TemplateActions1\",\"overrides\":[],\"properties\":[{\"default\":0,\"kind\":null,\"name\":\"open_modal\"},{\"default\":0,\"kind\":null,\"name\":\"close_modal\"}]},{\"extends\":null,\"module\":null,\"name\":\"MaterialTemplateActions1\",\"overrides\":[],\"properties\":[{\"default\":0,\"kind\":null,\"name\":\"open_modal\"},{\"default\":0,\"kind\":null,\"name\":\"close_modal\"}]}],\"roots\":{\"references\":[{\"attributes\":{\"fill_alpha\":{\"value\":0.2},\"fill_color\":{\"value\":\"#3CD5E7\"},\"hatch_alpha\":{\"value\":0.2},\"hatch_color\":{\"value\":\"#3CD5E7\"},\"line_alpha\":{\"value\":0.2},\"top\":{\"field\":\"Safety_Index\"},\"width\":{\"value\":0.8},\"x\":{\"field\":\"Country\"}},\"id\":\"1324\",\"type\":\"VBar\"},{\"attributes\":{\"children\":[{\"id\":\"1282\"},{\"id\":\"1286\"}],\"margin\":[0,0,0,0],\"name\":\"Column02042\"},\"id\":\"1281\",\"type\":\"Column\"},{\"attributes\":{},\"id\":\"1295\",\"type\":\"CategoricalScale\"},{\"attributes\":{},\"id\":\"1332\",\"type\":\"BasicTickFormatter\"},{\"attributes\":{},\"id\":\"1329\",\"type\":\"CategoricalTickFormatter\"},{\"attributes\":{\"callback\":null,\"renderers\":[{\"id\":\"1325\"}],\"tags\":[\"hv_created\"],\"tooltips\":[[\"Country\",\"@{Country}\"],[\"Safety Index\",\"@{Safety_Index}\"]]},\"id\":\"1289\",\"type\":\"HoverTool\"},{\"attributes\":{\"children\":[{\"id\":\"1284\"}],\"margin\":[0,0,0,0],\"name\":\"Column01919\"},\"id\":\"1283\",\"type\":\"Column\"},{\"attributes\":{},\"id\":\"1297\",\"type\":\"LinearScale\"},{\"attributes\":{\"children\":[{\"id\":\"1281\"}],\"margin\":[0,0,0,0],\"name\":\"Row02043\"},\"id\":\"1280\",\"type\":\"Row\"},{\"attributes\":{\"coordinates\":null,\"group\":null,\"text\":\"Safety Index by Country\",\"text_color\":\"black\",\"text_font_size\":\"12pt\"},\"id\":\"1291\",\"type\":\"Title\"},{\"attributes\":{\"coordinates\":null,\"data_source\":{\"id\":\"1319\"},\"glyph\":{\"id\":\"1322\"},\"group\":null,\"hover_glyph\":null,\"muted_glyph\":{\"id\":\"1324\"},\"nonselection_glyph\":{\"id\":\"1323\"},\"selection_glyph\":{\"id\":\"1327\"},\"view\":{\"id\":\"1326\"}},\"id\":\"1325\",\"type\":\"GlyphRenderer\"},{\"attributes\":{\"below\":[{\"id\":\"1299\"}],\"center\":[{\"id\":\"1301\"},{\"id\":\"1305\"}],\"height\":370,\"left\":[{\"id\":\"1302\"}],\"margin\":[5,5,5,5],\"min_border_bottom\":10,\"min_border_left\":10,\"min_border_right\":10,\"min_border_top\":10,\"renderers\":[{\"id\":\"1325\"}],\"sizing_mode\":\"fixed\",\"title\":{\"id\":\"1291\"},\"toolbar\":{\"id\":\"1312\"},\"width\":700,\"x_range\":{\"id\":\"1287\"},\"x_scale\":{\"id\":\"1295\"},\"y_range\":{\"id\":\"1288\"},\"y_scale\":{\"id\":\"1297\"}},\"id\":\"1290\",\"subtype\":\"Figure\",\"type\":\"Plot\"},{\"attributes\":{\"axis_label\":\"Country\",\"coordinates\":null,\"formatter\":{\"id\":\"1329\"},\"group\":null,\"major_label_orientation\":1.5707963267948966,\"major_label_policy\":{\"id\":\"1330\"},\"ticker\":{\"id\":\"1300\"}},\"id\":\"1299\",\"type\":\"CategoricalAxis\"},{\"attributes\":{},\"id\":\"1333\",\"type\":\"AllLabels\"},{\"attributes\":{\"axis\":{\"id\":\"1299\"},\"coordinates\":null,\"group\":null,\"ticker\":{\"id\":\"1300\"}},\"id\":\"1301\",\"type\":\"Grid\"},{\"attributes\":{\"fill_color\":{\"value\":\"#3CD5E7\"},\"hatch_color\":{\"value\":\"#3CD5E7\"},\"top\":{\"field\":\"Safety_Index\"},\"width\":{\"value\":0.8},\"x\":{\"field\":\"Country\"}},\"id\":\"1322\",\"type\":\"VBar\"},{\"attributes\":{},\"id\":\"1300\",\"type\":\"CategoricalTicker\"},{\"attributes\":{\"axis\":{\"id\":\"1302\"},\"coordinates\":null,\"dimension\":1,\"group\":null,\"ticker\":{\"id\":\"1303\"}},\"id\":\"1305\",\"type\":\"Grid\"},{\"attributes\":{\"data\":{\"Country\":[\"Qatar\",\"United Arab Emirates\",\"Taiwan\",\"Oman\",\"Hong Kong\",\"Japan\",\"Saudi Arabia\",\"Georgia\",\"South Korea\",\"Singapore\",\"China\",\"Cyprus\",\"Azerbaijan\",\"Israel\",\"Kuwait\",\"Thailand\",\"Turkey\",\"Jordan\",\"Sri Lanka\",\"Pakistan\",\"Philippines\",\"India\",\"Vietnam\",\"Indonesia\",\"Lebanon\",\"Iran\",\"Kazakhstan\",\"Malaysia\",\"Bangladesh\"],\"Safety_Index\":{\"__ndarray__\":\"MzMzMzNzVUBmZmZmZkZVQJqZmZmZ+VRAMzMzMzMTVECamZmZmZlTQDMzMzMzc1NAmpmZmZnZUkDNzMzMzKxSQJqZmZmZeVJAMzMzMzMzUkDNzMzMzMxRQJqZmZmZOVFAMzMzMzMTUUAzMzMzM/NQQAAAAAAAwFBAzczMzMyMTkDNzMzMzAxOQAAAAAAAgE1AAAAAAACATUAzMzMzMzNNQM3MzMzMzExAMzMzMzOzS0CamZmZmRlLQDMzMzMz80pAMzMzMzOzSkBmZmZmZiZJQAAAAAAAgEdAzczMzMzMRkAzMzMzM3NCQA==\",\"dtype\":\"float64\",\"order\":\"little\",\"shape\":[29]}},\"selected\":{\"id\":\"1320\"},\"selection_policy\":{\"id\":\"1343\"}},\"id\":\"1319\",\"type\":\"ColumnDataSource\"},{\"attributes\":{},\"id\":\"1303\",\"type\":\"BasicTicker\"},{\"attributes\":{},\"id\":\"1343\",\"type\":\"UnionRenderers\"},{\"attributes\":{\"axis_label\":\"Safety Index\",\"coordinates\":null,\"formatter\":{\"id\":\"1332\"},\"group\":null,\"major_label_policy\":{\"id\":\"1333\"},\"ticker\":{\"id\":\"1303\"}},\"id\":\"1302\",\"type\":\"LinearAxis\"},{\"attributes\":{\"bottom\":{\"value\":0},\"fill_alpha\":{\"value\":1.0},\"fill_color\":{\"value\":\"#3CD5E7\"},\"hatch_alpha\":{\"value\":1.0},\"hatch_color\":{\"value\":\"#3CD5E7\"},\"hatch_scale\":{\"value\":12.0},\"hatch_weight\":{\"value\":1.0},\"line_alpha\":{\"value\":1.0},\"line_cap\":{\"value\":\"butt\"},\"line_color\":{\"value\":\"black\"},\"line_dash\":{\"value\":[]},\"line_dash_offset\":{\"value\":0},\"line_join\":{\"value\":\"bevel\"},\"line_width\":{\"value\":1},\"top\":{\"field\":\"Safety_Index\"},\"width\":{\"value\":0.8},\"x\":{\"field\":\"Country\"}},\"id\":\"1327\",\"type\":\"VBar\"},{\"attributes\":{},\"id\":\"1320\",\"type\":\"Selection\"},{\"attributes\":{},\"id\":\"1307\",\"type\":\"PanTool\"},{\"attributes\":{},\"id\":\"1308\",\"type\":\"WheelZoomTool\"},{\"attributes\":{},\"id\":\"1306\",\"type\":\"SaveTool\"},{\"attributes\":{\"end\":90.69,\"reset_end\":90.69,\"reset_start\":0.0,\"tags\":[[[\"Safety Index\",\"Safety Index\",null]]]},\"id\":\"1288\",\"type\":\"Range1d\"},{\"attributes\":{\"children\":[{\"id\":\"1290\"}],\"margin\":[0,0,0,0],\"name\":\"Row01924\"},\"id\":\"1286\",\"type\":\"Row\"},{\"attributes\":{\"overlay\":{\"id\":\"1311\"}},\"id\":\"1309\",\"type\":\"BoxZoomTool\"},{\"attributes\":{\"tools\":[{\"id\":\"1289\"},{\"id\":\"1306\"},{\"id\":\"1307\"},{\"id\":\"1308\"},{\"id\":\"1309\"},{\"id\":\"1310\"}]},\"id\":\"1312\",\"type\":\"Toolbar\"},{\"attributes\":{\"client_comm_id\":\"461e4b8fab5742ea84b7c4942010e666\",\"comm_id\":\"fc2482b4298e4e22932484f190db2151\",\"plot_id\":\"1280\"},\"id\":\"1376\",\"type\":\"panel.models.comm_manager.CommManager\"},{\"attributes\":{},\"id\":\"1310\",\"type\":\"ResetTool\"},{\"attributes\":{\"bottom_units\":\"screen\",\"coordinates\":null,\"fill_alpha\":0.5,\"fill_color\":\"lightgrey\",\"group\":null,\"left_units\":\"screen\",\"level\":\"overlay\",\"line_alpha\":1.0,\"line_color\":\"black\",\"line_dash\":[4,4],\"line_width\":2,\"right_units\":\"screen\",\"syncable\":false,\"top_units\":\"screen\"},\"id\":\"1311\",\"type\":\"BoxAnnotation\"},{\"attributes\":{\"factors\":[\"Qatar\",\"United Arab Emirates\",\"Taiwan\",\"Oman\",\"Hong Kong\",\"Japan\",\"Saudi Arabia\",\"Georgia\",\"South Korea\",\"Singapore\",\"China\",\"Cyprus\",\"Azerbaijan\",\"Israel\",\"Kuwait\",\"Thailand\",\"Turkey\",\"Jordan\",\"Sri Lanka\",\"Pakistan\",\"Philippines\",\"India\",\"Vietnam\",\"Indonesia\",\"Lebanon\",\"Iran\",\"Kazakhstan\",\"Malaysia\",\"Bangladesh\"],\"tags\":[[[\"Country\",\"Country\",null]]]},\"id\":\"1287\",\"type\":\"FactorRange\"},{\"attributes\":{},\"id\":\"1330\",\"type\":\"AllLabels\"},{\"attributes\":{\"margin\":[5,10,5,10],\"options\":[\"Asia\",\"Europe\",\"America\",\"Africa\",\"Oceania\"],\"title\":\"Choose your Continent\",\"value\":\"Asia\"},\"id\":\"1284\",\"type\":\"panel.models.widgets.CustomSelect\"},{\"attributes\":{\"children\":[{\"id\":\"1283\"},{\"id\":\"1285\"}],\"margin\":[0,0,0,0],\"name\":\"Row02041\"},\"id\":\"1282\",\"type\":\"Row\"},{\"attributes\":{\"fill_alpha\":{\"value\":0.1},\"fill_color\":{\"value\":\"#3CD5E7\"},\"hatch_alpha\":{\"value\":0.1},\"hatch_color\":{\"value\":\"#3CD5E7\"},\"line_alpha\":{\"value\":0.1},\"top\":{\"field\":\"Safety_Index\"},\"width\":{\"value\":0.8},\"x\":{\"field\":\"Country\"}},\"id\":\"1323\",\"type\":\"VBar\"},{\"attributes\":{\"margin\":[5,5,5,5],\"name\":\"HSpacer02040\",\"sizing_mode\":\"stretch_width\"},\"id\":\"1285\",\"type\":\"Spacer\"},{\"attributes\":{\"source\":{\"id\":\"1319\"}},\"id\":\"1326\",\"type\":\"CDSView\"}],\"root_ids\":[\"1280\",\"1376\"]},\"title\":\"Bokeh Application\",\"version\":\"2.4.3\"}};\n",
       "    var render_items = [{\"docid\":\"92652675-e3be-4e6b-8dc5-61333d98c153\",\"root_ids\":[\"1280\"],\"roots\":{\"1280\":\"0c9a42ce-4aad-48f2-bada-715541753a6c\"}}];\n",
       "    root.Bokeh.embed.embed_items_notebook(docs_json, render_items);\n",
       "    for (const render_item of render_items) {\n",
       "      for (const root_id of render_item.root_ids) {\n",
       "\tconst id_el = document.getElementById(root_id)\n",
       "\tif (id_el.children.length && (id_el.children[0].className === 'bk-root')) {\n",
       "\t  const root_el = id_el.children[0]\n",
       "\t  root_el.id = root_el.id + '-rendered'\n",
       "\t}\n",
       "      }\n",
       "    }\n",
       "  }\n",
       "  if (root.Bokeh !== undefined && root.Bokeh.Panel !== undefined && ( root['Tabulator'] !== undefined) && ( root['Tabulator'] !== undefined) && ( root['Tabulator'] !== undefined)) {\n",
       "    embed_document(root);\n",
       "  } else {\n",
       "    var attempts = 0;\n",
       "    var timer = setInterval(function(root) {\n",
       "      if (root.Bokeh !== undefined && root.Bokeh.Panel !== undefined && (root['Tabulator'] !== undefined) && (root['Tabulator'] !== undefined) && (root['Tabulator'] !== undefined)) {\n",
       "        clearInterval(timer);\n",
       "        embed_document(root);\n",
       "      } else if (document.readyState == \"complete\") {\n",
       "        attempts++;\n",
       "        if (attempts > 200) {\n",
       "          clearInterval(timer);\n",
       "          console.log(\"Bokeh: ERROR: Unable to run BokehJS code because BokehJS library is missing\");\n",
       "        }\n",
       "      }\n",
       "    }, 25, root)\n",
       "  }\n",
       "})(window);</script>"
      ],
      "text/plain": [
       "<hvplot.interactive.Interactive at 0x22a28ff00d0>"
      ]
     },
     "execution_count": 27,
     "metadata": {
      "application/vnd.holoviews_exec.v0+json": {
       "id": "1280"
      }
     },
     "output_type": "execute_result"
    }
   ],
   "source": [
    "# bar chart\n",
    "\n",
    "viz_4 = data_pipeline.sort_values(by='Safety Index', ascending=False).hvplot(x='Country', y='Safety Index', kind='bar', rot=90, height=370, c ='#3CD5E7', \n",
    "                             title='Safety Index by Country', grid=True)\n",
    "viz_4"
   ]
  },
  {
   "cell_type": "code",
   "execution_count": 28,
   "id": "f6c16b88",
   "metadata": {},
   "outputs": [
    {
     "data": {},
     "metadata": {},
     "output_type": "display_data"
    },
    {
     "data": {},
     "metadata": {},
     "output_type": "display_data"
    },
    {
     "data": {
      "application/vnd.holoviews_exec.v0+json": "",
      "text/html": [
       "<div id='1427'>\n",
       "  <div class=\"bk-root\" id=\"2724c053-7987-493e-8deb-7058e906385e\" data-root-id=\"1427\"></div>\n",
       "</div>\n",
       "<script type=\"application/javascript\">(function(root) {\n",
       "  function embed_document(root) {\n",
       "    var docs_json = {\"c16b6965-92e7-4827-a4f8-e7acef00408a\":{\"defs\":[{\"extends\":null,\"module\":null,\"name\":\"ReactiveHTML1\",\"overrides\":[],\"properties\":[]},{\"extends\":null,\"module\":null,\"name\":\"FlexBox1\",\"overrides\":[],\"properties\":[{\"default\":\"flex-start\",\"kind\":null,\"name\":\"align_content\"},{\"default\":\"flex-start\",\"kind\":null,\"name\":\"align_items\"},{\"default\":\"row\",\"kind\":null,\"name\":\"flex_direction\"},{\"default\":\"wrap\",\"kind\":null,\"name\":\"flex_wrap\"},{\"default\":\"flex-start\",\"kind\":null,\"name\":\"justify_content\"}]},{\"extends\":null,\"module\":null,\"name\":\"GridStack1\",\"overrides\":[],\"properties\":[{\"default\":\"warn\",\"kind\":null,\"name\":\"mode\"},{\"default\":null,\"kind\":null,\"name\":\"ncols\"},{\"default\":null,\"kind\":null,\"name\":\"nrows\"},{\"default\":true,\"kind\":null,\"name\":\"allow_resize\"},{\"default\":true,\"kind\":null,\"name\":\"allow_drag\"},{\"default\":[],\"kind\":null,\"name\":\"state\"}]},{\"extends\":null,\"module\":null,\"name\":\"click1\",\"overrides\":[],\"properties\":[{\"default\":\"\",\"kind\":null,\"name\":\"terminal_output\"},{\"default\":\"\",\"kind\":null,\"name\":\"debug_name\"},{\"default\":0,\"kind\":null,\"name\":\"clears\"}]},{\"extends\":null,\"module\":null,\"name\":\"NotificationAreaBase1\",\"overrides\":[],\"properties\":[{\"default\":\"bottom-right\",\"kind\":null,\"name\":\"position\"},{\"default\":0,\"kind\":null,\"name\":\"_clear\"}]},{\"extends\":null,\"module\":null,\"name\":\"NotificationArea1\",\"overrides\":[],\"properties\":[{\"default\":[],\"kind\":null,\"name\":\"notifications\"},{\"default\":\"bottom-right\",\"kind\":null,\"name\":\"position\"},{\"default\":0,\"kind\":null,\"name\":\"_clear\"},{\"default\":[{\"background\":\"#ffc107\",\"icon\":{\"className\":\"fas fa-exclamation-triangle\",\"color\":\"white\",\"tagName\":\"i\"},\"type\":\"warning\"},{\"background\":\"#007bff\",\"icon\":{\"className\":\"fas fa-info-circle\",\"color\":\"white\",\"tagName\":\"i\"},\"type\":\"info\"}],\"kind\":null,\"name\":\"types\"}]},{\"extends\":null,\"module\":null,\"name\":\"Notification\",\"overrides\":[],\"properties\":[{\"default\":null,\"kind\":null,\"name\":\"background\"},{\"default\":3000,\"kind\":null,\"name\":\"duration\"},{\"default\":null,\"kind\":null,\"name\":\"icon\"},{\"default\":\"\",\"kind\":null,\"name\":\"message\"},{\"default\":null,\"kind\":null,\"name\":\"notification_type\"},{\"default\":false,\"kind\":null,\"name\":\"_destroyed\"}]},{\"extends\":null,\"module\":null,\"name\":\"TemplateActions1\",\"overrides\":[],\"properties\":[{\"default\":0,\"kind\":null,\"name\":\"open_modal\"},{\"default\":0,\"kind\":null,\"name\":\"close_modal\"}]},{\"extends\":null,\"module\":null,\"name\":\"MaterialTemplateActions1\",\"overrides\":[],\"properties\":[{\"default\":0,\"kind\":null,\"name\":\"open_modal\"},{\"default\":0,\"kind\":null,\"name\":\"close_modal\"}]}],\"roots\":{\"references\":[{\"attributes\":{},\"id\":\"1473\",\"type\":\"AllLabels\"},{\"attributes\":{\"fill_color\":\"#30a2da\",\"hatch_color\":\"#30a2da\",\"x\":{\"field\":\"x\"},\"y\":{\"field\":\"y\"}},\"id\":\"1477\",\"type\":\"Patch\"},{\"attributes\":{\"fill_alpha\":1,\"fill_color\":\"#30a2da\",\"hatch_alpha\":0.1,\"hatch_color\":\"#30a2da\",\"line_alpha\":1,\"x\":{\"field\":\"x\"},\"y\":{\"field\":\"y\"}},\"id\":\"1478\",\"type\":\"Patch\"},{\"attributes\":{},\"id\":\"1443\",\"type\":\"LinearScale\"},{\"attributes\":{\"fill_alpha\":0.2,\"fill_color\":\"#30a2da\",\"hatch_alpha\":0.2,\"hatch_color\":\"#30a2da\",\"line_alpha\":0.2,\"x\":{\"field\":\"x\"},\"y\":{\"field\":\"y\"}},\"id\":\"1479\",\"type\":\"Patch\"},{\"attributes\":{\"coordinates\":null,\"data_source\":{\"id\":\"1474\"},\"glyph\":{\"id\":\"1477\"},\"group\":null,\"hover_glyph\":null,\"muted_glyph\":{\"id\":\"1479\"},\"nonselection_glyph\":{\"id\":\"1478\"},\"selection_glyph\":{\"id\":\"1494\"},\"view\":{\"id\":\"1481\"}},\"id\":\"1480\",\"type\":\"GlyphRenderer\"},{\"attributes\":{\"callback\":null,\"renderers\":[{\"id\":\"1480\"},{\"id\":\"1501\"}],\"tags\":[\"hv_created\"],\"tooltips\":[[\"Variable\",\"@{Variable}\"],[\"index\",\"@{index}\"],[\"value\",\"@{value}\"]]},\"id\":\"1436\",\"type\":\"HoverTool\"},{\"attributes\":{\"fill_color\":\"#30a2da\",\"hatch_color\":\"#30a2da\",\"x\":{\"field\":\"x\"},\"y\":{\"field\":\"y\"}},\"id\":\"1494\",\"type\":\"Patch\"},{\"attributes\":{},\"id\":\"1472\",\"type\":\"BasicTickFormatter\"},{\"attributes\":{\"label\":{\"value\":\"Climate Index\"},\"renderers\":[{\"id\":\"1480\"}]},\"id\":\"1493\",\"type\":\"LegendItem\"},{\"attributes\":{\"fill_alpha\":0.2,\"fill_color\":\"#fc4f30\",\"hatch_alpha\":0.2,\"hatch_color\":\"#fc4f30\",\"line_alpha\":0.2,\"x\":{\"field\":\"x\"},\"y\":{\"field\":\"y\"}},\"id\":\"1500\",\"type\":\"Patch\"},{\"attributes\":{\"below\":[{\"id\":\"1447\"}],\"center\":[{\"id\":\"1450\"},{\"id\":\"1454\"},{\"id\":\"1492\"}],\"height\":300,\"left\":[{\"id\":\"1451\"}],\"margin\":[5,5,5,5],\"min_border_bottom\":10,\"min_border_left\":10,\"min_border_right\":10,\"min_border_top\":10,\"renderers\":[{\"id\":\"1480\"},{\"id\":\"1501\"}],\"sizing_mode\":\"fixed\",\"title\":{\"id\":\"1439\"},\"toolbar\":{\"id\":\"1461\"},\"width\":700,\"x_range\":{\"id\":\"1434\"},\"x_scale\":{\"id\":\"1443\"},\"y_range\":{\"id\":\"1435\"},\"y_scale\":{\"id\":\"1445\"}},\"id\":\"1438\",\"subtype\":\"Figure\",\"type\":\"Plot\"},{\"attributes\":{\"click_policy\":\"mute\",\"coordinates\":null,\"group\":null,\"items\":[{\"id\":\"1493\"},{\"id\":\"1515\"}],\"title\":\"Variable\"},\"id\":\"1492\",\"type\":\"Legend\"},{\"attributes\":{\"children\":[{\"id\":\"1431\"}],\"margin\":[0,0,0,0],\"name\":\"Column02212\"},\"id\":\"1430\",\"type\":\"Column\"},{\"attributes\":{\"client_comm_id\":\"0d6a0d39946f48f38ef5e9b5f8f1b834\",\"comm_id\":\"31aeedfada5c4f54898e8155e6298587\",\"plot_id\":\"1427\"},\"id\":\"1565\",\"type\":\"panel.models.comm_manager.CommManager\"},{\"attributes\":{},\"id\":\"1445\",\"type\":\"LinearScale\"},{\"attributes\":{\"fill_alpha\":1,\"fill_color\":\"#fc4f30\",\"hatch_alpha\":0.1,\"hatch_color\":\"#fc4f30\",\"line_alpha\":1,\"x\":{\"field\":\"x\"},\"y\":{\"field\":\"y\"}},\"id\":\"1499\",\"type\":\"Patch\"},{\"attributes\":{\"coordinates\":null,\"group\":null,\"text\":\"Climate & Pollution Area Chart\",\"text_color\":\"black\",\"text_font_size\":\"12pt\"},\"id\":\"1439\",\"type\":\"Title\"},{\"attributes\":{\"axis_label\":\"\",\"coordinates\":null,\"formatter\":{\"id\":\"1469\"},\"group\":null,\"major_label_policy\":{\"id\":\"1470\"},\"ticker\":{\"id\":\"1448\"}},\"id\":\"1447\",\"type\":\"LinearAxis\"},{\"attributes\":{\"children\":[{\"id\":\"1438\"}],\"margin\":[0,0,0,0],\"name\":\"Row02217\"},\"id\":\"1433\",\"type\":\"Row\"},{\"attributes\":{\"fill_color\":\"#fc4f30\",\"hatch_color\":\"#fc4f30\",\"x\":{\"field\":\"x\"},\"y\":{\"field\":\"y\"}},\"id\":\"1498\",\"type\":\"Patch\"},{\"attributes\":{},\"id\":\"1456\",\"type\":\"PanTool\"},{\"attributes\":{\"coordinates\":null,\"data_source\":{\"id\":\"1495\"},\"glyph\":{\"id\":\"1498\"},\"group\":null,\"hover_glyph\":null,\"muted_glyph\":{\"id\":\"1500\"},\"nonselection_glyph\":{\"id\":\"1499\"},\"selection_glyph\":{\"id\":\"1516\"},\"view\":{\"id\":\"1502\"}},\"id\":\"1501\",\"type\":\"GlyphRenderer\"},{\"attributes\":{\"axis\":{\"id\":\"1447\"},\"coordinates\":null,\"grid_line_color\":null,\"group\":null,\"ticker\":null},\"id\":\"1450\",\"type\":\"Grid\"},{\"attributes\":{\"children\":[{\"id\":\"1428\"}],\"margin\":[0,0,0,0],\"name\":\"Row02354\"},\"id\":\"1427\",\"type\":\"Row\"},{\"attributes\":{\"fill_color\":\"#fc4f30\",\"hatch_color\":\"#fc4f30\",\"x\":{\"field\":\"x\"},\"y\":{\"field\":\"y\"}},\"id\":\"1516\",\"type\":\"Patch\"},{\"attributes\":{},\"id\":\"1448\",\"type\":\"BasicTicker\"},{\"attributes\":{\"end\":102.15,\"reset_end\":102.15,\"reset_start\":0.0,\"tags\":[[[\"value\",\"value\",null]]]},\"id\":\"1435\",\"type\":\"Range1d\"},{\"attributes\":{\"tools\":[{\"id\":\"1436\"},{\"id\":\"1455\"},{\"id\":\"1456\"},{\"id\":\"1457\"},{\"id\":\"1458\"},{\"id\":\"1459\"}]},\"id\":\"1461\",\"type\":\"Toolbar\"},{\"attributes\":{\"children\":[{\"id\":\"1429\"},{\"id\":\"1433\"}],\"margin\":[0,0,0,0],\"name\":\"Column02353\"},\"id\":\"1428\",\"type\":\"Column\"},{\"attributes\":{\"data\":{\"x\":[0,1,2,3,4,5,6,7,8,9,10,11,12,13,14,15,16,17,18,19,20,21,22,23,24,25,26,27,28,28,27,26,25,24,23,22,21,20,19,18,17,16,15,14,13,12,11,10,9,8,7,6,5,4,3,2,1,0],\"y\":{\"__ndarray__\":\"AAAAAAAAAAAAAAAAAAAAAAAAAAAAAAAAAAAAAAAAAAAAAAAAAAAAAAAAAAAAAAAAAAAAAAAAAAAAAAAAAAAAAAAAAAAAAAAAAAAAAAAAAAAAAAAAAAAAAAAAAAAAAAAAAAAAAAAAAAAAAAAAAAAAAAAAAAAAAAAAAAAAAAAAAAAAAAAAAAAAAAAAAAAAAAAAAAAAAAAAAAAAAAAAAAAAAAAAAAAAAAAAAAAAAAAAAAAAAAAAAAAAAAAAAAAAAAAAAAAAAAAAAAAAAAAAAAAAAAAAAAAAAAAAAAAAAAAAAAAAAAAAAAAAAAAAAAAAYFVAZmZmZmYmTkDNzMzMzMxSQJqZmZmZOVJAZmZmZmZmVUDNzMzMzAxUQAAAAAAAQFJAzczMzMzMUEAAAAAAAGBWQJqZmZmZ2VJAzczMzMxsUkDNzMzMzMxQQAAAAAAAgFJAzczMzMwMU0AzMzMzM/NQQGZmZmZmRlFAZmZmZmZGUECamZmZmRlPQAAAAAAAQFJAMzMzMzMzT0CamZmZmTlQQGZmZmZm5kxAmpmZmZmZS0BmZmZmZqZPQAAAAAAAgEBAAAAAAAAATkBmZmZmZmZCQM3MzMzMjENAMzMzMzPzR0A=\",\"dtype\":\"float64\",\"order\":\"little\",\"shape\":[58]}},\"selected\":{\"id\":\"1496\"},\"selection_policy\":{\"id\":\"1512\"}},\"id\":\"1495\",\"type\":\"ColumnDataSource\"},{\"attributes\":{},\"id\":\"1470\",\"type\":\"AllLabels\"},{\"attributes\":{\"axis_label\":\"\",\"coordinates\":null,\"formatter\":{\"id\":\"1472\"},\"group\":null,\"major_label_policy\":{\"id\":\"1473\"},\"ticker\":{\"id\":\"1452\"}},\"id\":\"1451\",\"type\":\"LinearAxis\"},{\"attributes\":{\"children\":[{\"id\":\"1430\"},{\"id\":\"1432\"}],\"margin\":[0,0,0,0],\"name\":\"Row02352\"},\"id\":\"1429\",\"type\":\"Row\"},{\"attributes\":{},\"id\":\"1496\",\"type\":\"Selection\"},{\"attributes\":{\"axis\":{\"id\":\"1451\"},\"coordinates\":null,\"dimension\":1,\"grid_line_color\":null,\"group\":null,\"ticker\":null},\"id\":\"1454\",\"type\":\"Grid\"},{\"attributes\":{\"source\":{\"id\":\"1495\"}},\"id\":\"1502\",\"type\":\"CDSView\"},{\"attributes\":{},\"id\":\"1452\",\"type\":\"BasicTicker\"},{\"attributes\":{},\"id\":\"1457\",\"type\":\"WheelZoomTool\"},{\"attributes\":{\"label\":{\"value\":\"Pollution Index\"},\"renderers\":[{\"id\":\"1501\"}]},\"id\":\"1515\",\"type\":\"LegendItem\"},{\"attributes\":{\"data\":{\"x\":[0,1,2,3,4,5,6,7,8,9,10,11,12,13,14,15,16,17,18,19,20,21,22,23,24,25,26,27,28,28,27,26,25,24,23,22,21,20,19,18,17,16,15,14,13,12,11,10,9,8,7,6,5,4,3,2,1,0],\"y\":{\"__ndarray__\":\"AAAAAAAAAAAAAAAAAAAAAAAAAAAAAAAAAAAAAAAAAAAAAAAAAAAAAAAAAAAAAAAAAAAAAAAAAAAAAAAAAAAAAAAAAAAAAAAAAAAAAAAAAAAAAAAAAAAAAAAAAAAAAAAAAAAAAAAAAAAAAAAAAAAAAAAAAAAAAAAAAAAAAAAAAAAAAAAAAAAAAAAAAAAAAAAAAAAAAAAAAAAAAAAAAAAAAAAAAAAAAAAAAAAAAAAAAAAAAAAAAAAAAAAAAAAAAAAAAAAAAAAAAAAAAAAAAAAAAAAAAAAAAAAAAAAAAAAAAAAAAAAAAAAAADMzMzMz01FAzczMzMyMTUDNzMzMzGxQQM3MzMzMzE5AzczMzMzMUUCamZmZmdlTQGZmZmZm5kNAAAAAAABAUUDNzMzMzKxXQJqZmZmZWVFAMzMzMzOzUUBmZmZmZuZUQJqZmZmZ2VZAAAAAAABAVkAzMzMzMzM0QAAAAAAAIFZAmpmZmZmZVkAAAAAAAMBMQM3MzMzMLFBAmpmZmZkZUUBmZmZmZmZUQJqZmZmZeVdAzczMzMwMV0AAAAAAAABHQAAAAAAAwExAAAAAAAAAQkDNzMzMzMxQQDMzMzMzM1VAmpmZmZmZRkA=\",\"dtype\":\"float64\",\"order\":\"little\",\"shape\":[58]}},\"selected\":{\"id\":\"1475\"},\"selection_policy\":{\"id\":\"1489\"}},\"id\":\"1474\",\"type\":\"ColumnDataSource\"},{\"attributes\":{},\"id\":\"1455\",\"type\":\"SaveTool\"},{\"attributes\":{},\"id\":\"1512\",\"type\":\"UnionRenderers\"},{\"attributes\":{\"end\":28.0,\"reset_end\":28.0,\"reset_start\":0.0,\"tags\":[[[\"index\",\"index\",null]]]},\"id\":\"1434\",\"type\":\"Range1d\"},{\"attributes\":{\"overlay\":{\"id\":\"1460\"}},\"id\":\"1458\",\"type\":\"BoxZoomTool\"},{\"attributes\":{},\"id\":\"1459\",\"type\":\"ResetTool\"},{\"attributes\":{\"bottom_units\":\"screen\",\"coordinates\":null,\"fill_alpha\":0.5,\"fill_color\":\"lightgrey\",\"group\":null,\"left_units\":\"screen\",\"level\":\"overlay\",\"line_alpha\":1.0,\"line_color\":\"black\",\"line_dash\":[4,4],\"line_width\":2,\"right_units\":\"screen\",\"syncable\":false,\"top_units\":\"screen\"},\"id\":\"1460\",\"type\":\"BoxAnnotation\"},{\"attributes\":{\"margin\":[5,10,5,10],\"options\":[\"Asia\",\"Europe\",\"America\",\"Africa\",\"Oceania\"],\"title\":\"Choose your Continent\",\"value\":\"Asia\"},\"id\":\"1431\",\"type\":\"panel.models.widgets.CustomSelect\"},{\"attributes\":{},\"id\":\"1489\",\"type\":\"UnionRenderers\"},{\"attributes\":{\"margin\":[5,5,5,5],\"name\":\"HSpacer02351\",\"sizing_mode\":\"stretch_width\"},\"id\":\"1432\",\"type\":\"Spacer\"},{\"attributes\":{\"source\":{\"id\":\"1474\"}},\"id\":\"1481\",\"type\":\"CDSView\"},{\"attributes\":{},\"id\":\"1469\",\"type\":\"BasicTickFormatter\"},{\"attributes\":{},\"id\":\"1475\",\"type\":\"Selection\"}],\"root_ids\":[\"1427\",\"1565\"]},\"title\":\"Bokeh Application\",\"version\":\"2.4.3\"}};\n",
       "    var render_items = [{\"docid\":\"c16b6965-92e7-4827-a4f8-e7acef00408a\",\"root_ids\":[\"1427\"],\"roots\":{\"1427\":\"2724c053-7987-493e-8deb-7058e906385e\"}}];\n",
       "    root.Bokeh.embed.embed_items_notebook(docs_json, render_items);\n",
       "    for (const render_item of render_items) {\n",
       "      for (const root_id of render_item.root_ids) {\n",
       "\tconst id_el = document.getElementById(root_id)\n",
       "\tif (id_el.children.length && (id_el.children[0].className === 'bk-root')) {\n",
       "\t  const root_el = id_el.children[0]\n",
       "\t  root_el.id = root_el.id + '-rendered'\n",
       "\t}\n",
       "      }\n",
       "    }\n",
       "  }\n",
       "  if (root.Bokeh !== undefined && root.Bokeh.Panel !== undefined && ( root['Tabulator'] !== undefined) && ( root['Tabulator'] !== undefined) && ( root['Tabulator'] !== undefined)) {\n",
       "    embed_document(root);\n",
       "  } else {\n",
       "    var attempts = 0;\n",
       "    var timer = setInterval(function(root) {\n",
       "      if (root.Bokeh !== undefined && root.Bokeh.Panel !== undefined && (root['Tabulator'] !== undefined) && (root['Tabulator'] !== undefined) && (root['Tabulator'] !== undefined)) {\n",
       "        clearInterval(timer);\n",
       "        embed_document(root);\n",
       "      } else if (document.readyState == \"complete\") {\n",
       "        attempts++;\n",
       "        if (attempts > 200) {\n",
       "          clearInterval(timer);\n",
       "          console.log(\"Bokeh: ERROR: Unable to run BokehJS code because BokehJS library is missing\");\n",
       "        }\n",
       "      }\n",
       "    }, 25, root)\n",
       "  }\n",
       "})(window);</script>"
      ],
      "text/plain": [
       "<hvplot.interactive.Interactive at 0x22a294e1880>"
      ]
     },
     "execution_count": 28,
     "metadata": {
      "application/vnd.holoviews_exec.v0+json": {
       "id": "1427"
      }
     },
     "output_type": "execute_result"
    }
   ],
   "source": [
    "# area chart\n",
    "\n",
    "cols = ['Climate Index', 'Pollution Index']\n",
    "\n",
    "viz_5 = data_pipeline.hvplot(y=cols, kind='area', legend='top_right',title = 'Climate & Pollution Area Chart')\n",
    "viz_5"
   ]
  },
  {
   "cell_type": "code",
   "execution_count": 29,
   "id": "e222af18",
   "metadata": {},
   "outputs": [],
   "source": [
    "# scatter\n",
    "\n",
    "cols = ['Purchasing Power Index', 'Property Price to Income Ratio', 'Traffic Commute Time Index']\n",
    "viz_6 = data_pipeline.hvplot(kind='scatter', x='Quality_of_Life_Index', y='Traffic Commute Time Index',\n",
    "                            title='Traffice Commute Time by Quality life', legend='top')"
   ]
  },
  {
   "cell_type": "code",
   "execution_count": null,
   "id": "4db977a9",
   "metadata": {},
   "outputs": [],
   "source": []
  },
  {
   "cell_type": "markdown",
   "id": "37020c7d",
   "metadata": {},
   "source": [
    "### full Dashboard"
   ]
  },
  {
   "cell_type": "code",
   "execution_count": 34,
   "id": "a855ac91",
   "metadata": {},
   "outputs": [
    {
     "name": "stdout",
     "output_type": "stream",
     "text": [
      "Launching server at http://localhost:4411\n"
     ]
    },
    {
     "data": {
      "text/plain": [
       "<panel.io.server.Server at 0x22a2a99f9a0>"
      ]
     },
     "execution_count": 34,
     "metadata": {},
     "output_type": "execute_result"
    }
   ],
   "source": [
    "dashboard = pn.template.FastListTemplate(theme='dark',\n",
    "                                        title='Quality of Life Index 2022',\n",
    "                                        sidebar=[pn.pane.Markdown('# About the Project'),\n",
    "                                                pn.pane.Markdown('#### The QLI was developed by Carol Estwing Ferrans and Marjorie Powers in 1984 to measure quality of life in terms of satisfaction with life. The QLI measures both satisfaction and importance regarding various aspects of life.'),\n",
    "                                                pn.pane.JPG('qol.jpg', sizing_mode='scale_both'),\n",
    "                                                pn.pane.Markdown('[The picture was taken from Unplash]'),\n",
    "                                                choose_continent],\n",
    "                                        main=[pn.Row(pn.Column(viz_1), pn.Column(viz_2)),\n",
    "                                             pn.Row(pn.Column(viz_3.panel(height=320, width=450, margin=(0,20))), \n",
    "                                                   pn.Column(viz_4.panel(height=390, width=730, margin=(0,20)))),\n",
    "                                             pn.Row(viz_5.panel(height=320, width=450),\n",
    "                                                   (viz_6.panel(height=350, width=450)))],\n",
    "                                        accent_base_color='#d78929',\n",
    "                                        header_background='#0d9579')\n",
    "                                         \n",
    "dashboard.show()"
   ]
  },
  {
   "cell_type": "code",
   "execution_count": null,
   "id": "4e9311b8",
   "metadata": {},
   "outputs": [],
   "source": []
  },
  {
   "cell_type": "code",
   "execution_count": null,
   "id": "5d767f77",
   "metadata": {},
   "outputs": [],
   "source": []
  },
  {
   "cell_type": "code",
   "execution_count": null,
   "id": "4e123f28",
   "metadata": {},
   "outputs": [],
   "source": []
  }
 ],
 "metadata": {
  "kernelspec": {
   "display_name": "Python 3 (ipykernel)",
   "language": "python",
   "name": "python3"
  },
  "language_info": {
   "codemirror_mode": {
    "name": "ipython",
    "version": 3
   },
   "file_extension": ".py",
   "mimetype": "text/x-python",
   "name": "python",
   "nbconvert_exporter": "python",
   "pygments_lexer": "ipython3",
   "version": "3.9.15"
  }
 },
 "nbformat": 4,
 "nbformat_minor": 5
}
